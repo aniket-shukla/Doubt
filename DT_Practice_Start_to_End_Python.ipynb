{
 "cells": [
  {
   "cell_type": "code",
   "execution_count": 1,
   "id": "bc30ea4a",
   "metadata": {},
   "outputs": [
    {
     "name": "stdout",
     "output_type": "stream",
     "text": [
      "['False', 'None', 'True', 'and', 'as', 'assert', 'async', 'await', 'break', 'class', 'continue', 'def', 'del', 'elif', 'else', 'except', 'finally', 'for', 'from', 'global', 'if', 'import', 'in', 'is', 'lambda', 'nonlocal', 'not', 'or', 'pass', 'raise', 'return', 'try', 'while', 'with', 'yield']\n"
     ]
    }
   ],
   "source": [
    "import keyword\n",
    "print(keyword.kwlist)"
   ]
  },
  {
   "cell_type": "code",
   "execution_count": 2,
   "id": "6c583b57",
   "metadata": {},
   "outputs": [
    {
     "data": {
      "text/plain": [
       "35"
      ]
     },
     "execution_count": 2,
     "metadata": {},
     "output_type": "execute_result"
    }
   ],
   "source": [
    "len(keyword.kwlist)"
   ]
  },
  {
   "cell_type": "code",
   "execution_count": 3,
   "id": "2dc7a568",
   "metadata": {},
   "outputs": [
    {
     "data": {
      "text/plain": [
       "False"
      ]
     },
     "execution_count": 3,
     "metadata": {},
     "output_type": "execute_result"
    }
   ],
   "source": [
    "True and False"
   ]
  },
  {
   "cell_type": "code",
   "execution_count": 5,
   "id": "d115905f",
   "metadata": {},
   "outputs": [
    {
     "data": {
      "text/plain": [
       "True"
      ]
     },
     "execution_count": 5,
     "metadata": {},
     "output_type": "execute_result"
    }
   ],
   "source": [
    "True and True"
   ]
  },
  {
   "cell_type": "code",
   "execution_count": 6,
   "id": "c0aff216",
   "metadata": {},
   "outputs": [
    {
     "data": {
      "text/plain": [
       "True"
      ]
     },
     "execution_count": 6,
     "metadata": {},
     "output_type": "execute_result"
    }
   ],
   "source": [
    "True or False"
   ]
  },
  {
   "cell_type": "code",
   "execution_count": 7,
   "id": "813d6443",
   "metadata": {},
   "outputs": [
    {
     "data": {
      "text/plain": [
       "2"
      ]
     },
     "execution_count": 7,
     "metadata": {},
     "output_type": "execute_result"
    }
   ],
   "source": [
    "True + True"
   ]
  },
  {
   "cell_type": "code",
   "execution_count": 8,
   "id": "276d30e8",
   "metadata": {},
   "outputs": [
    {
     "data": {
      "text/plain": [
       "0"
      ]
     },
     "execution_count": 8,
     "metadata": {},
     "output_type": "execute_result"
    }
   ],
   "source": [
    "False + False"
   ]
  },
  {
   "cell_type": "code",
   "execution_count": 9,
   "id": "1199ef9f",
   "metadata": {},
   "outputs": [
    {
     "data": {
      "text/plain": [
       "1"
      ]
     },
     "execution_count": 9,
     "metadata": {},
     "output_type": "execute_result"
    }
   ],
   "source": [
    "True - False"
   ]
  },
  {
   "cell_type": "code",
   "execution_count": 10,
   "id": "38dd760e",
   "metadata": {},
   "outputs": [
    {
     "data": {
      "text/plain": [
       "-1"
      ]
     },
     "execution_count": 10,
     "metadata": {},
     "output_type": "execute_result"
    }
   ],
   "source": [
    "False - True"
   ]
  },
  {
   "cell_type": "markdown",
   "id": "18f34149",
   "metadata": {},
   "source": [
    "# Data Types and Structures"
   ]
  },
  {
   "cell_type": "markdown",
   "id": "69540821",
   "metadata": {},
   "source": [
    "- Numbers\n",
    "- String\n",
    "- Tuples\n",
    "- List\n",
    "- Dictionary\n",
    "- Set"
   ]
  },
  {
   "cell_type": "code",
   "execution_count": 12,
   "id": "4969a606",
   "metadata": {},
   "outputs": [
    {
     "name": "stdout",
     "output_type": "stream",
     "text": [
      "20\n"
     ]
    }
   ],
   "source": [
    "a = 20 \n",
    "print(a)"
   ]
  },
  {
   "cell_type": "code",
   "execution_count": 13,
   "id": "3439117c",
   "metadata": {},
   "outputs": [
    {
     "data": {
      "text/plain": [
       "int"
      ]
     },
     "execution_count": 13,
     "metadata": {},
     "output_type": "execute_result"
    }
   ],
   "source": [
    "type(a)"
   ]
  },
  {
   "cell_type": "code",
   "execution_count": 14,
   "id": "869c4d82",
   "metadata": {},
   "outputs": [
    {
     "name": "stdout",
     "output_type": "stream",
     "text": [
      "45.6\n"
     ]
    }
   ],
   "source": [
    "b = 45.6\n",
    "print(b)"
   ]
  },
  {
   "cell_type": "code",
   "execution_count": 15,
   "id": "c585b758",
   "metadata": {},
   "outputs": [
    {
     "data": {
      "text/plain": [
       "float"
      ]
     },
     "execution_count": 15,
     "metadata": {},
     "output_type": "execute_result"
    }
   ],
   "source": [
    "type(b)"
   ]
  },
  {
   "cell_type": "code",
   "execution_count": 16,
   "id": "757e1f09",
   "metadata": {},
   "outputs": [
    {
     "name": "stdout",
     "output_type": "stream",
     "text": [
      "(3+2j)\n"
     ]
    }
   ],
   "source": [
    "c = 3+2j\n",
    "print(c)"
   ]
  },
  {
   "cell_type": "code",
   "execution_count": 17,
   "id": "b20ba292",
   "metadata": {},
   "outputs": [
    {
     "data": {
      "text/plain": [
       "complex"
      ]
     },
     "execution_count": 17,
     "metadata": {},
     "output_type": "execute_result"
    }
   ],
   "source": [
    "type(c)"
   ]
  },
  {
   "cell_type": "code",
   "execution_count": 19,
   "id": "0be00321",
   "metadata": {},
   "outputs": [
    {
     "ename": "AttributeError",
     "evalue": "'complex' object has no attribute 'dtype'",
     "output_type": "error",
     "traceback": [
      "\u001b[1;31m---------------------------------------------------------------------------\u001b[0m",
      "\u001b[1;31mAttributeError\u001b[0m                            Traceback (most recent call last)",
      "\u001b[1;32m<ipython-input-19-685f54da5df1>\u001b[0m in \u001b[0;36m<module>\u001b[1;34m\u001b[0m\n\u001b[1;32m----> 1\u001b[1;33m \u001b[0mc\u001b[0m\u001b[1;33m.\u001b[0m\u001b[0mdtype\u001b[0m\u001b[1;33m(\u001b[0m\u001b[1;33m)\u001b[0m\u001b[1;33m\u001b[0m\u001b[1;33m\u001b[0m\u001b[0m\n\u001b[0m",
      "\u001b[1;31mAttributeError\u001b[0m: 'complex' object has no attribute 'dtype'"
     ]
    }
   ],
   "source": [
    "c.dtype()"
   ]
  },
  {
   "cell_type": "markdown",
   "id": "846938fa",
   "metadata": {},
   "source": [
    "## String"
   ]
  },
  {
   "cell_type": "code",
   "execution_count": 23,
   "id": "1606b1c2",
   "metadata": {},
   "outputs": [
    {
     "name": "stdout",
     "output_type": "stream",
     "text": [
      "Python is a very powerful Language\n"
     ]
    }
   ],
   "source": [
    "str_1 = (\"Python is a \")\n",
    "str_2 = (\"very powerful \")\n",
    "str_3 = (\"Language\")\n",
    "\n",
    "d = (str_1+str_2+str_3)\n",
    "\n",
    "print(d)"
   ]
  },
  {
   "cell_type": "code",
   "execution_count": 24,
   "id": "50a9d5ab",
   "metadata": {},
   "outputs": [
    {
     "data": {
      "text/plain": [
       "str"
      ]
     },
     "execution_count": 24,
     "metadata": {},
     "output_type": "execute_result"
    }
   ],
   "source": [
    "type(d)"
   ]
  },
  {
   "cell_type": "code",
   "execution_count": 27,
   "id": "ae6e5431",
   "metadata": {},
   "outputs": [
    {
     "ename": "NameError",
     "evalue": "name 'dtype' is not defined",
     "output_type": "error",
     "traceback": [
      "\u001b[1;31m---------------------------------------------------------------------------\u001b[0m",
      "\u001b[1;31mNameError\u001b[0m                                 Traceback (most recent call last)",
      "\u001b[1;32m<ipython-input-27-2eb75aeea05a>\u001b[0m in \u001b[0;36m<module>\u001b[1;34m\u001b[0m\n\u001b[1;32m----> 1\u001b[1;33m \u001b[0mdtype\u001b[0m\u001b[1;33m(\u001b[0m\u001b[0md\u001b[0m\u001b[1;33m)\u001b[0m\u001b[1;33m\u001b[0m\u001b[1;33m\u001b[0m\u001b[0m\n\u001b[0m",
      "\u001b[1;31mNameError\u001b[0m: name 'dtype' is not defined"
     ]
    }
   ],
   "source": [
    "dtype(d)"
   ]
  },
  {
   "cell_type": "raw",
   "id": "ef04ae4b",
   "metadata": {},
   "source": [
    "Adding Strings with comma"
   ]
  },
  {
   "cell_type": "code",
   "execution_count": 28,
   "id": "4394ba2b",
   "metadata": {},
   "outputs": [
    {
     "name": "stdout",
     "output_type": "stream",
     "text": [
      "I've to  learn  a lot\n"
     ]
    }
   ],
   "source": [
    "print(\"I've to \", \"learn \", \"a lot\")"
   ]
  },
  {
   "cell_type": "raw",
   "id": "5d06819b",
   "metadata": {},
   "source": [
    "Other operations on Strings"
   ]
  },
  {
   "cell_type": "code",
   "execution_count": 30,
   "id": "4a8c5c4c",
   "metadata": {},
   "outputs": [
    {
     "name": "stdout",
     "output_type": "stream",
     "text": [
      "Day Day Day Day Day \n"
     ]
    }
   ],
   "source": [
    "print(\"Day \"*5)"
   ]
  },
  {
   "cell_type": "code",
   "execution_count": 31,
   "id": "e56412eb",
   "metadata": {},
   "outputs": [
    {
     "name": "stdout",
     "output_type": "stream",
     "text": [
      "Day2\n"
     ]
    }
   ],
   "source": [
    "print(\"Day\" + str(2))"
   ]
  },
  {
   "cell_type": "markdown",
   "id": "6f1ea8c6",
   "metadata": {},
   "source": [
    "We can convert numbers into string datatype but not viceversa"
   ]
  },
  {
   "cell_type": "markdown",
   "id": "731b1c7d",
   "metadata": {},
   "source": [
    "## List"
   ]
  },
  {
   "cell_type": "code",
   "execution_count": 33,
   "id": "d2f59ac7",
   "metadata": {},
   "outputs": [
    {
     "data": {
      "text/plain": [
       "[]"
      ]
     },
     "execution_count": 33,
     "metadata": {},
     "output_type": "execute_result"
    }
   ],
   "source": [
    "# Creating empty list\n",
    "l = []\n",
    "l"
   ]
  },
  {
   "cell_type": "code",
   "execution_count": 34,
   "id": "7a62855d",
   "metadata": {},
   "outputs": [
    {
     "data": {
      "text/plain": [
       "list"
      ]
     },
     "execution_count": 34,
     "metadata": {},
     "output_type": "execute_result"
    }
   ],
   "source": [
    "type(l)"
   ]
  },
  {
   "cell_type": "code",
   "execution_count": 35,
   "id": "e271f81d",
   "metadata": {},
   "outputs": [
    {
     "data": {
      "text/plain": [
       "['a', 'b', 'c']"
      ]
     },
     "execution_count": 35,
     "metadata": {},
     "output_type": "execute_result"
    }
   ],
   "source": [
    "l = ['a', 'b', 'c']\n",
    "l"
   ]
  },
  {
   "cell_type": "code",
   "execution_count": 36,
   "id": "1858a32f",
   "metadata": {},
   "outputs": [],
   "source": [
    "l = [3, 4.5, \"Aniket\"]"
   ]
  },
  {
   "cell_type": "code",
   "execution_count": 37,
   "id": "5089d190",
   "metadata": {},
   "outputs": [
    {
     "data": {
      "text/plain": [
       "[3, 4.5, 'Aniket']"
      ]
     },
     "execution_count": 37,
     "metadata": {},
     "output_type": "execute_result"
    }
   ],
   "source": [
    "l"
   ]
  },
  {
   "cell_type": "code",
   "execution_count": 38,
   "id": "102bd5c5",
   "metadata": {},
   "outputs": [
    {
     "data": {
      "text/plain": [
       "[3, 4.5, 'Aniket']"
      ]
     },
     "execution_count": 38,
     "metadata": {},
     "output_type": "execute_result"
    }
   ],
   "source": [
    "# Copying one list to other\n",
    "l_1 = list(l)\n",
    "l_1"
   ]
  },
  {
   "cell_type": "code",
   "execution_count": 39,
   "id": "486fd8b6",
   "metadata": {},
   "outputs": [
    {
     "data": {
      "text/plain": [
       "['A', 'n', 'i', 'k', 'e', 't']"
      ]
     },
     "execution_count": 39,
     "metadata": {},
     "output_type": "execute_result"
    }
   ],
   "source": [
    "list(\"Aniket\")"
   ]
  },
  {
   "cell_type": "code",
   "execution_count": 40,
   "id": "2fe795c5",
   "metadata": {},
   "outputs": [
    {
     "ename": "TypeError",
     "evalue": "'int' object is not iterable",
     "output_type": "error",
     "traceback": [
      "\u001b[1;31m---------------------------------------------------------------------------\u001b[0m",
      "\u001b[1;31mTypeError\u001b[0m                                 Traceback (most recent call last)",
      "\u001b[1;32m<ipython-input-40-bbefd69a210b>\u001b[0m in \u001b[0;36m<module>\u001b[1;34m\u001b[0m\n\u001b[1;32m----> 1\u001b[1;33m \u001b[0mlist\u001b[0m\u001b[1;33m(\u001b[0m\u001b[1;36m78787484\u001b[0m\u001b[1;33m)\u001b[0m\u001b[1;33m\u001b[0m\u001b[1;33m\u001b[0m\u001b[0m\n\u001b[0m",
      "\u001b[1;31mTypeError\u001b[0m: 'int' object is not iterable"
     ]
    }
   ],
   "source": [
    "list(78787484)"
   ]
  },
  {
   "cell_type": "markdown",
   "id": "4482d6bc",
   "metadata": {},
   "source": [
    "## Append"
   ]
  },
  {
   "cell_type": "code",
   "execution_count": 41,
   "id": "4319d574",
   "metadata": {},
   "outputs": [
    {
     "data": {
      "text/plain": [
       "[]"
      ]
     },
     "execution_count": 41,
     "metadata": {},
     "output_type": "execute_result"
    }
   ],
   "source": [
    "emp = []\n",
    "emp"
   ]
  },
  {
   "cell_type": "code",
   "execution_count": 42,
   "id": "d3a4cccd",
   "metadata": {},
   "outputs": [],
   "source": [
    "emp.append(\"Aniket\")"
   ]
  },
  {
   "cell_type": "code",
   "execution_count": 43,
   "id": "95f62846",
   "metadata": {},
   "outputs": [
    {
     "data": {
      "text/plain": [
       "['Aniket']"
      ]
     },
     "execution_count": 43,
     "metadata": {},
     "output_type": "execute_result"
    }
   ],
   "source": [
    "emp"
   ]
  },
  {
   "cell_type": "code",
   "execution_count": 45,
   "id": "47f15b90",
   "metadata": {},
   "outputs": [
    {
     "name": "stdout",
     "output_type": "stream",
     "text": [
      "['Aniket', 'Shukla', 'Shukla']\n"
     ]
    }
   ],
   "source": [
    "emp.append(\"Shukla\")\n",
    "print(emp)"
   ]
  },
  {
   "cell_type": "code",
   "execution_count": 46,
   "id": "bab67cdf",
   "metadata": {},
   "outputs": [
    {
     "data": {
      "text/plain": [
       "'Shukla'"
      ]
     },
     "execution_count": 46,
     "metadata": {},
     "output_type": "execute_result"
    }
   ],
   "source": [
    "emp.pop()"
   ]
  },
  {
   "cell_type": "code",
   "execution_count": 47,
   "id": "ba54b6d2",
   "metadata": {},
   "outputs": [
    {
     "data": {
      "text/plain": [
       "['Aniket', 'Shukla']"
      ]
     },
     "execution_count": 47,
     "metadata": {},
     "output_type": "execute_result"
    }
   ],
   "source": [
    "emp"
   ]
  },
  {
   "cell_type": "markdown",
   "id": "1e51907c",
   "metadata": {},
   "source": [
    "## Insert"
   ]
  },
  {
   "cell_type": "code",
   "execution_count": 48,
   "id": "cf1ff230",
   "metadata": {},
   "outputs": [
    {
     "data": {
      "text/plain": [
       "['Aniket', 'Kumar', 'Shukla']"
      ]
     },
     "execution_count": 48,
     "metadata": {},
     "output_type": "execute_result"
    }
   ],
   "source": [
    "emp.insert(1,\"Kumar\")\n",
    "emp"
   ]
  },
  {
   "cell_type": "code",
   "execution_count": 49,
   "id": "1613e729",
   "metadata": {},
   "outputs": [
    {
     "data": {
      "text/plain": [
       "[2000, 4000]"
      ]
     },
     "execution_count": 49,
     "metadata": {},
     "output_type": "execute_result"
    }
   ],
   "source": [
    "emp_sal = [2000,4000]\n",
    "emp_sal"
   ]
  },
  {
   "cell_type": "code",
   "execution_count": 50,
   "id": "8a2dc414",
   "metadata": {},
   "outputs": [],
   "source": [
    "emp_sal.insert(1,3000)"
   ]
  },
  {
   "cell_type": "code",
   "execution_count": 51,
   "id": "043b0c74",
   "metadata": {},
   "outputs": [
    {
     "data": {
      "text/plain": [
       "[2000, 3000, 4000]"
      ]
     },
     "execution_count": 51,
     "metadata": {},
     "output_type": "execute_result"
    }
   ],
   "source": [
    "emp_sal"
   ]
  },
  {
   "cell_type": "code",
   "execution_count": 52,
   "id": "992ff89d",
   "metadata": {},
   "outputs": [
    {
     "data": {
      "text/plain": [
       "3"
      ]
     },
     "execution_count": 52,
     "metadata": {},
     "output_type": "execute_result"
    }
   ],
   "source": [
    "len(emp_sal)"
   ]
  },
  {
   "cell_type": "markdown",
   "id": "503f274a",
   "metadata": {},
   "source": [
    "## Indexing and Slicing"
   ]
  },
  {
   "cell_type": "code",
   "execution_count": 53,
   "id": "eac29331",
   "metadata": {},
   "outputs": [
    {
     "data": {
      "text/plain": [
       "['Aniket', 'Kumar', 'Shukla']"
      ]
     },
     "execution_count": 53,
     "metadata": {},
     "output_type": "execute_result"
    }
   ],
   "source": [
    "emp"
   ]
  },
  {
   "cell_type": "code",
   "execution_count": 54,
   "id": "f0a75d1f",
   "metadata": {},
   "outputs": [
    {
     "data": {
      "text/plain": [
       "'Kumar'"
      ]
     },
     "execution_count": 54,
     "metadata": {},
     "output_type": "execute_result"
    }
   ],
   "source": [
    "emp[1]"
   ]
  },
  {
   "cell_type": "code",
   "execution_count": 55,
   "id": "6a4edd32",
   "metadata": {},
   "outputs": [],
   "source": [
    "emp[0]= \"Ankit\""
   ]
  },
  {
   "cell_type": "code",
   "execution_count": 56,
   "id": "6b2a92b7",
   "metadata": {},
   "outputs": [
    {
     "data": {
      "text/plain": [
       "['Ankit', 'Kumar', 'Shukla']"
      ]
     },
     "execution_count": 56,
     "metadata": {},
     "output_type": "execute_result"
    }
   ],
   "source": [
    "emp"
   ]
  },
  {
   "cell_type": "code",
   "execution_count": 57,
   "id": "d10f0c49",
   "metadata": {},
   "outputs": [
    {
     "data": {
      "text/plain": [
       "'Kumar'"
      ]
     },
     "execution_count": 57,
     "metadata": {},
     "output_type": "execute_result"
    }
   ],
   "source": [
    "emp[-2]"
   ]
  },
  {
   "cell_type": "code",
   "execution_count": 58,
   "id": "f92d7725",
   "metadata": {},
   "outputs": [
    {
     "data": {
      "text/plain": [
       "'Shukla'"
      ]
     },
     "execution_count": 58,
     "metadata": {},
     "output_type": "execute_result"
    }
   ],
   "source": [
    "emp[-1]"
   ]
  },
  {
   "cell_type": "code",
   "execution_count": 59,
   "id": "6d277dbb",
   "metadata": {},
   "outputs": [],
   "source": [
    "emp_sal[1] = 10000"
   ]
  },
  {
   "cell_type": "code",
   "execution_count": 60,
   "id": "9ef593b3",
   "metadata": {},
   "outputs": [
    {
     "data": {
      "text/plain": [
       "[2000, 10000, 4000]"
      ]
     },
     "execution_count": 60,
     "metadata": {},
     "output_type": "execute_result"
    }
   ],
   "source": [
    "emp_sal"
   ]
  },
  {
   "cell_type": "code",
   "execution_count": 67,
   "id": "3f302cfa",
   "metadata": {},
   "outputs": [],
   "source": [
    "emp_sal.extend([90000,45000,30000,2003,42000])"
   ]
  },
  {
   "cell_type": "code",
   "execution_count": 69,
   "id": "6c1c312e",
   "metadata": {},
   "outputs": [
    {
     "data": {
      "text/plain": [
       "[90000, 45000, 30000, 2003, 42000]"
      ]
     },
     "execution_count": 69,
     "metadata": {},
     "output_type": "execute_result"
    }
   ],
   "source": [
    "emp_sal.pop(3)"
   ]
  },
  {
   "cell_type": "code",
   "execution_count": 70,
   "id": "e6d118df",
   "metadata": {},
   "outputs": [
    {
     "data": {
      "text/plain": [
       "[2000, 10000, 4000, 90000, 45000, 30000, 2003, 42000]"
      ]
     },
     "execution_count": 70,
     "metadata": {},
     "output_type": "execute_result"
    }
   ],
   "source": [
    "emp_sal"
   ]
  },
  {
   "cell_type": "code",
   "execution_count": 71,
   "id": "f65bb46c",
   "metadata": {},
   "outputs": [
    {
     "data": {
      "text/plain": [
       "[10000, 4000, 90000, 45000, 30000, 2003, 42000]"
      ]
     },
     "execution_count": 71,
     "metadata": {},
     "output_type": "execute_result"
    }
   ],
   "source": [
    "# Grabbing index 1 and everything past it\n",
    "emp_sal[1:]"
   ]
  },
  {
   "cell_type": "code",
   "execution_count": 72,
   "id": "e09624f2",
   "metadata": {},
   "outputs": [
    {
     "data": {
      "text/plain": [
       "[2000, 10000, 4000]"
      ]
     },
     "execution_count": 72,
     "metadata": {},
     "output_type": "execute_result"
    }
   ],
   "source": [
    "# Grabbing everything upto index 2\n",
    "emp_sal[0:3]"
   ]
  },
  {
   "cell_type": "code",
   "execution_count": 73,
   "id": "ab649bb4",
   "metadata": {},
   "outputs": [
    {
     "data": {
      "text/plain": [
       "[10000, 4000]"
      ]
     },
     "execution_count": 73,
     "metadata": {},
     "output_type": "execute_result"
    }
   ],
   "source": [
    "emp_sal[1:3]"
   ]
  },
  {
   "cell_type": "markdown",
   "id": "434db71d",
   "metadata": {},
   "source": [
    "### Concatenating List"
   ]
  },
  {
   "cell_type": "code",
   "execution_count": 74,
   "id": "cb930a41",
   "metadata": {},
   "outputs": [
    {
     "data": {
      "text/plain": [
       "[2000, 10000, 4000, 90000, 45000, 30000, 2003, 42000, 56000]"
      ]
     },
     "execution_count": 74,
     "metadata": {},
     "output_type": "execute_result"
    }
   ],
   "source": [
    "emp_sal + [56000]    # added just like strings"
   ]
  },
  {
   "cell_type": "code",
   "execution_count": 75,
   "id": "2d6ffc6f",
   "metadata": {},
   "outputs": [
    {
     "data": {
      "text/plain": [
       "[2000, 10000, 4000, 90000, 45000, 30000, 2003, 42000]"
      ]
     },
     "execution_count": 75,
     "metadata": {},
     "output_type": "execute_result"
    }
   ],
   "source": [
    "emp_sal              # 56000 was not added permanently"
   ]
  },
  {
   "cell_type": "code",
   "execution_count": 76,
   "id": "bef25473",
   "metadata": {},
   "outputs": [
    {
     "data": {
      "text/plain": [
       "[2000, 10000, 4000, 90000, 45000, 30000, 2003, 42000, 56000]"
      ]
     },
     "execution_count": 76,
     "metadata": {},
     "output_type": "execute_result"
    }
   ],
   "source": [
    "# Adding permanently\n",
    "emp_sal = emp_sal + [56000]\n",
    "emp_sal"
   ]
  },
  {
   "cell_type": "code",
   "execution_count": 77,
   "id": "2d803853",
   "metadata": {},
   "outputs": [
    {
     "data": {
      "text/plain": [
       "[2000,\n",
       " 10000,\n",
       " 4000,\n",
       " 90000,\n",
       " 45000,\n",
       " 30000,\n",
       " 2003,\n",
       " 42000,\n",
       " 56000,\n",
       " 2000,\n",
       " 10000,\n",
       " 4000,\n",
       " 90000,\n",
       " 45000,\n",
       " 30000,\n",
       " 2003,\n",
       " 42000,\n",
       " 56000]"
      ]
     },
     "execution_count": 77,
     "metadata": {},
     "output_type": "execute_result"
    }
   ],
   "source": [
    "# Making the list double(not permanently)\n",
    "emp_sal * 2"
   ]
  },
  {
   "cell_type": "code",
   "execution_count": 78,
   "id": "73994eac",
   "metadata": {},
   "outputs": [
    {
     "data": {
      "text/plain": [
       "[2000, 10000, 4000, 90000, 45000, 30000, 2003, 42000, 56000]"
      ]
     },
     "execution_count": 78,
     "metadata": {},
     "output_type": "execute_result"
    }
   ],
   "source": [
    "emp_sal"
   ]
  },
  {
   "cell_type": "markdown",
   "id": "564af6d1",
   "metadata": {},
   "source": [
    "## Advanced Lists"
   ]
  },
  {
   "cell_type": "code",
   "execution_count": 80,
   "id": "a3f2d2cd",
   "metadata": {},
   "outputs": [
    {
     "data": {
      "text/plain": [
       "[23, 3, 45, 65, 67, 43, 23, 34, 43, 43, 23, 12, 89, 43]"
      ]
     },
     "execution_count": 80,
     "metadata": {},
     "output_type": "execute_result"
    }
   ],
   "source": [
    "marks = [23,3,45,65,67,43,23,34,43,43,23,12,89,43]\n",
    "marks"
   ]
  },
  {
   "cell_type": "code",
   "execution_count": 81,
   "id": "c36c21c0",
   "metadata": {},
   "outputs": [
    {
     "data": {
      "text/plain": [
       "4"
      ]
     },
     "execution_count": 81,
     "metadata": {},
     "output_type": "execute_result"
    }
   ],
   "source": [
    "# Counting the number of times the item appears in the list\n",
    "marks.count(43)"
   ]
  },
  {
   "cell_type": "markdown",
   "id": "1df0e01a",
   "metadata": {},
   "source": [
    "### Index"
   ]
  },
  {
   "cell_type": "code",
   "execution_count": 82,
   "id": "29becb38",
   "metadata": {},
   "outputs": [
    {
     "data": {
      "text/plain": [
       "12"
      ]
     },
     "execution_count": 82,
     "metadata": {},
     "output_type": "execute_result"
    }
   ],
   "source": [
    "marks.index(89)"
   ]
  },
  {
   "cell_type": "markdown",
   "id": "4876b50a",
   "metadata": {},
   "source": [
    "If there are duplicate items in a list, then index tells the index of the first duplicate item"
   ]
  },
  {
   "cell_type": "code",
   "execution_count": 83,
   "id": "a2c73d2e",
   "metadata": {},
   "outputs": [
    {
     "data": {
      "text/plain": [
       "5"
      ]
     },
     "execution_count": 83,
     "metadata": {},
     "output_type": "execute_result"
    }
   ],
   "source": [
    "marks.index(43)"
   ]
  },
  {
   "cell_type": "code",
   "execution_count": 84,
   "id": "55093ddf",
   "metadata": {},
   "outputs": [
    {
     "data": {
      "text/plain": [
       "['Ankit', 'Kumar', 'Shukla']"
      ]
     },
     "execution_count": 84,
     "metadata": {},
     "output_type": "execute_result"
    }
   ],
   "source": [
    "emp"
   ]
  },
  {
   "cell_type": "code",
   "execution_count": 85,
   "id": "21d7fc7e",
   "metadata": {},
   "outputs": [],
   "source": [
    "emp.append([\"Mansi\", \"Gurbuxani\"])"
   ]
  },
  {
   "cell_type": "code",
   "execution_count": 86,
   "id": "060c43a8",
   "metadata": {},
   "outputs": [
    {
     "data": {
      "text/plain": [
       "['Ankit', 'Kumar', 'Shukla', ['Mansi', 'Gurbuxani']]"
      ]
     },
     "execution_count": 86,
     "metadata": {},
     "output_type": "execute_result"
    }
   ],
   "source": [
    "emp"
   ]
  },
  {
   "cell_type": "code",
   "execution_count": 87,
   "id": "01b72f2b",
   "metadata": {},
   "outputs": [
    {
     "data": {
      "text/plain": [
       "4"
      ]
     },
     "execution_count": 87,
     "metadata": {},
     "output_type": "execute_result"
    }
   ],
   "source": [
    "len(emp)"
   ]
  },
  {
   "cell_type": "markdown",
   "id": "23dda76c",
   "metadata": {},
   "source": [
    "### Extend"
   ]
  },
  {
   "cell_type": "markdown",
   "id": "e72a5baa",
   "metadata": {},
   "source": [
    "It adds the elements in the last seperately and iterates it."
   ]
  },
  {
   "cell_type": "code",
   "execution_count": 89,
   "id": "b69b9d79",
   "metadata": {},
   "outputs": [],
   "source": [
    "emp.extend([\"Himanshu\", \"Singh\", \"Chauhan\"])"
   ]
  },
  {
   "cell_type": "code",
   "execution_count": 90,
   "id": "5ec473a5",
   "metadata": {},
   "outputs": [
    {
     "data": {
      "text/plain": [
       "['Ankit',\n",
       " 'Kumar',\n",
       " 'Shukla',\n",
       " ['Mansi', 'Gurbuxani'],\n",
       " 'Himanshu',\n",
       " 'Singh',\n",
       " 'Chauhan']"
      ]
     },
     "execution_count": 90,
     "metadata": {},
     "output_type": "execute_result"
    }
   ],
   "source": [
    "emp"
   ]
  },
  {
   "cell_type": "code",
   "execution_count": 91,
   "id": "098dddc9",
   "metadata": {},
   "outputs": [
    {
     "data": {
      "text/plain": [
       "7"
      ]
     },
     "execution_count": 91,
     "metadata": {},
     "output_type": "execute_result"
    }
   ],
   "source": [
    "len(emp)"
   ]
  },
  {
   "cell_type": "markdown",
   "id": "4858077d",
   "metadata": {},
   "source": [
    "### Pop"
   ]
  },
  {
   "cell_type": "markdown",
   "id": "8de79942",
   "metadata": {},
   "source": [
    "It eliminates the last element of the list"
   ]
  },
  {
   "cell_type": "code",
   "execution_count": 92,
   "id": "0f2746bb",
   "metadata": {},
   "outputs": [
    {
     "data": {
      "text/plain": [
       "'Chauhan'"
      ]
     },
     "execution_count": 92,
     "metadata": {},
     "output_type": "execute_result"
    }
   ],
   "source": [
    "emp.pop()"
   ]
  },
  {
   "cell_type": "code",
   "execution_count": 93,
   "id": "015c79b1",
   "metadata": {},
   "outputs": [
    {
     "data": {
      "text/plain": [
       "['Ankit', 'Kumar', 'Shukla', ['Mansi', 'Gurbuxani'], 'Himanshu', 'Singh']"
      ]
     },
     "execution_count": 93,
     "metadata": {},
     "output_type": "execute_result"
    }
   ],
   "source": [
    "emp"
   ]
  },
  {
   "cell_type": "code",
   "execution_count": 94,
   "id": "d28408a7",
   "metadata": {},
   "outputs": [
    {
     "data": {
      "text/plain": [
       "'Kumar'"
      ]
     },
     "execution_count": 94,
     "metadata": {},
     "output_type": "execute_result"
    }
   ],
   "source": [
    "emp.pop(1)"
   ]
  },
  {
   "cell_type": "code",
   "execution_count": 95,
   "id": "eb6e433d",
   "metadata": {},
   "outputs": [
    {
     "data": {
      "text/plain": [
       "['Ankit', 'Shukla', ['Mansi', 'Gurbuxani'], 'Himanshu', 'Singh']"
      ]
     },
     "execution_count": 95,
     "metadata": {},
     "output_type": "execute_result"
    }
   ],
   "source": [
    "emp"
   ]
  },
  {
   "cell_type": "markdown",
   "id": "861f03e0",
   "metadata": {},
   "source": [
    "### Remove"
   ]
  },
  {
   "cell_type": "markdown",
   "id": "e4e7b497",
   "metadata": {},
   "source": [
    "It removes the first occurence of the value."
   ]
  },
  {
   "cell_type": "markdown",
   "id": "718de551",
   "metadata": {},
   "source": [
    "If there are 2 duplicates, we can remove using \"Set\"."
   ]
  },
  {
   "cell_type": "code",
   "execution_count": 96,
   "id": "7387ce7b",
   "metadata": {},
   "outputs": [
    {
     "data": {
      "text/plain": [
       "[100, 101, 102, 103, 104, 103]"
      ]
     },
     "execution_count": 96,
     "metadata": {},
     "output_type": "execute_result"
    }
   ],
   "source": [
    "roll_num = [100,101,102,103,104,103]\n",
    "roll_num"
   ]
  },
  {
   "cell_type": "code",
   "execution_count": 97,
   "id": "39548872",
   "metadata": {},
   "outputs": [],
   "source": [
    "roll_num.remove(103)"
   ]
  },
  {
   "cell_type": "code",
   "execution_count": 98,
   "id": "a587d81c",
   "metadata": {},
   "outputs": [
    {
     "data": {
      "text/plain": [
       "[100, 101, 102, 104, 103]"
      ]
     },
     "execution_count": 98,
     "metadata": {},
     "output_type": "execute_result"
    }
   ],
   "source": [
    "roll_num"
   ]
  },
  {
   "cell_type": "markdown",
   "id": "c4517efe",
   "metadata": {},
   "source": [
    "## Reverse"
   ]
  },
  {
   "cell_type": "code",
   "execution_count": 99,
   "id": "7fa211cd",
   "metadata": {},
   "outputs": [],
   "source": [
    "roll_num.reverse()"
   ]
  },
  {
   "cell_type": "code",
   "execution_count": 100,
   "id": "d715d8c2",
   "metadata": {},
   "outputs": [
    {
     "data": {
      "text/plain": [
       "[103, 104, 102, 101, 100]"
      ]
     },
     "execution_count": 100,
     "metadata": {},
     "output_type": "execute_result"
    }
   ],
   "source": [
    "roll_num"
   ]
  },
  {
   "cell_type": "markdown",
   "id": "dfd61b61",
   "metadata": {},
   "source": [
    "## Sort"
   ]
  },
  {
   "cell_type": "code",
   "execution_count": 101,
   "id": "e3972783",
   "metadata": {},
   "outputs": [
    {
     "data": {
      "text/plain": [
       "[34, 23, 45, 21, 65, 65, 76, 78, 98, 89]"
      ]
     },
     "execution_count": 101,
     "metadata": {},
     "output_type": "execute_result"
    }
   ],
   "source": [
    "marks = [34,23,45,21,65,65,76,78,98,89]\n",
    "marks"
   ]
  },
  {
   "cell_type": "code",
   "execution_count": 102,
   "id": "8299d585",
   "metadata": {},
   "outputs": [],
   "source": [
    "marks.sort()"
   ]
  },
  {
   "cell_type": "code",
   "execution_count": 103,
   "id": "a60eac62",
   "metadata": {},
   "outputs": [
    {
     "data": {
      "text/plain": [
       "[21, 23, 34, 45, 65, 65, 76, 78, 89, 98]"
      ]
     },
     "execution_count": 103,
     "metadata": {},
     "output_type": "execute_result"
    }
   ],
   "source": [
    "marks"
   ]
  },
  {
   "cell_type": "code",
   "execution_count": 105,
   "id": "bbec70cf",
   "metadata": {},
   "outputs": [
    {
     "data": {
      "text/plain": [
       "[98, 89, 78, 76, 65, 65, 45, 34, 23, 21]"
      ]
     },
     "execution_count": 105,
     "metadata": {},
     "output_type": "execute_result"
    }
   ],
   "source": [
    "marks.sort(reverse=True)\n",
    "marks"
   ]
  },
  {
   "cell_type": "markdown",
   "id": "0e619b50",
   "metadata": {},
   "source": [
    "## Tuple"
   ]
  },
  {
   "cell_type": "code",
   "execution_count": 106,
   "id": "15f6af41",
   "metadata": {},
   "outputs": [
    {
     "data": {
      "text/plain": [
       "('Mumbai', 'Delhi', 'Kanpur', 'Noida', 'Gurugram', 'Lucknow')"
      ]
     },
     "execution_count": 106,
     "metadata": {},
     "output_type": "execute_result"
    }
   ],
   "source": [
    "work_loc = (\"Mumbai\", \"Delhi\", \"Kanpur\", \"Noida\", \"Gurugram\", \"Lucknow\")\n",
    "work_loc"
   ]
  },
  {
   "cell_type": "code",
   "execution_count": 107,
   "id": "c2b70e3c",
   "metadata": {},
   "outputs": [
    {
     "data": {
      "text/plain": [
       "tuple"
      ]
     },
     "execution_count": 107,
     "metadata": {},
     "output_type": "execute_result"
    }
   ],
   "source": [
    "type(work_loc)"
   ]
  },
  {
   "cell_type": "markdown",
   "id": "7602e3da",
   "metadata": {},
   "source": [
    "In Tuple, we can use only two methods i.e., count and index"
   ]
  },
  {
   "cell_type": "markdown",
   "id": "b23c6ff1",
   "metadata": {},
   "source": [
    "## Converting Tuple to List and then back to Tuple"
   ]
  },
  {
   "cell_type": "code",
   "execution_count": 108,
   "id": "f4983984",
   "metadata": {},
   "outputs": [
    {
     "data": {
      "text/plain": [
       "('Mumbai', 'Delhi', 'Kanpur', 'Noida', 'Gurugram', 'Lucknow')"
      ]
     },
     "execution_count": 108,
     "metadata": {},
     "output_type": "execute_result"
    }
   ],
   "source": [
    "work_loc"
   ]
  },
  {
   "cell_type": "code",
   "execution_count": 116,
   "id": "0e83e2eb",
   "metadata": {},
   "outputs": [],
   "source": [
    "# Converting from tuple to list\n",
    "work_loc = list(work_loc)"
   ]
  },
  {
   "cell_type": "code",
   "execution_count": 117,
   "id": "e6dfebe9",
   "metadata": {},
   "outputs": [
    {
     "data": {
      "text/plain": [
       "['Mumbai', 'Delhi', 'Kanpur', 'Noida', 'Gurugram', 'Lucknow']"
      ]
     },
     "execution_count": 117,
     "metadata": {},
     "output_type": "execute_result"
    }
   ],
   "source": [
    "work_loc"
   ]
  },
  {
   "cell_type": "code",
   "execution_count": 118,
   "id": "04c14976",
   "metadata": {},
   "outputs": [
    {
     "data": {
      "text/plain": [
       "list"
      ]
     },
     "execution_count": 118,
     "metadata": {},
     "output_type": "execute_result"
    }
   ],
   "source": [
    "type(work_loc)"
   ]
  },
  {
   "cell_type": "code",
   "execution_count": 119,
   "id": "8fef2cd7",
   "metadata": {},
   "outputs": [],
   "source": [
    "work_loc.append(\"Pune\")"
   ]
  },
  {
   "cell_type": "code",
   "execution_count": 120,
   "id": "7571fe1a",
   "metadata": {},
   "outputs": [
    {
     "data": {
      "text/plain": [
       "['Mumbai', 'Delhi', 'Kanpur', 'Noida', 'Gurugram', 'Lucknow', 'Pune']"
      ]
     },
     "execution_count": 120,
     "metadata": {},
     "output_type": "execute_result"
    }
   ],
   "source": [
    "work_loc"
   ]
  },
  {
   "cell_type": "code",
   "execution_count": 121,
   "id": "2c90dcde",
   "metadata": {},
   "outputs": [],
   "source": [
    "work_loc[1] = \"Shimla\""
   ]
  },
  {
   "cell_type": "code",
   "execution_count": 122,
   "id": "5f1d8738",
   "metadata": {},
   "outputs": [
    {
     "data": {
      "text/plain": [
       "['Mumbai', 'Shimla', 'Kanpur', 'Noida', 'Gurugram', 'Lucknow', 'Pune']"
      ]
     },
     "execution_count": 122,
     "metadata": {},
     "output_type": "execute_result"
    }
   ],
   "source": [
    "work_loc"
   ]
  },
  {
   "cell_type": "code",
   "execution_count": 125,
   "id": "ec3f3071",
   "metadata": {},
   "outputs": [],
   "source": [
    "# Converting list to tuple\n",
    "work_loc = tuple(work_loc)"
   ]
  },
  {
   "cell_type": "code",
   "execution_count": 126,
   "id": "841e52fe",
   "metadata": {},
   "outputs": [
    {
     "data": {
      "text/plain": [
       "('Mumbai', 'Shimla', 'Kanpur', 'Noida', 'Gurugram', 'Lucknow', 'Pune')"
      ]
     },
     "execution_count": 126,
     "metadata": {},
     "output_type": "execute_result"
    }
   ],
   "source": [
    "work_loc"
   ]
  },
  {
   "cell_type": "code",
   "execution_count": 127,
   "id": "d494864d",
   "metadata": {},
   "outputs": [
    {
     "data": {
      "text/plain": [
       "tuple"
      ]
     },
     "execution_count": 127,
     "metadata": {},
     "output_type": "execute_result"
    }
   ],
   "source": [
    "type(work_loc)"
   ]
  },
  {
   "cell_type": "code",
   "execution_count": 128,
   "id": "fd006bf6",
   "metadata": {},
   "outputs": [
    {
     "data": {
      "text/plain": [
       "'Pune'"
      ]
     },
     "execution_count": 128,
     "metadata": {},
     "output_type": "execute_result"
    }
   ],
   "source": [
    "work_loc[-1]"
   ]
  },
  {
   "cell_type": "code",
   "execution_count": 129,
   "id": "c5a66d3e",
   "metadata": {},
   "outputs": [
    {
     "data": {
      "text/plain": [
       "'Lucknow'"
      ]
     },
     "execution_count": 129,
     "metadata": {},
     "output_type": "execute_result"
    }
   ],
   "source": [
    "work_loc[-2]"
   ]
  },
  {
   "cell_type": "code",
   "execution_count": 130,
   "id": "fea20247",
   "metadata": {},
   "outputs": [],
   "source": [
    "numbers = (10,20,30,20,20,14,30)"
   ]
  },
  {
   "cell_type": "code",
   "execution_count": 131,
   "id": "81c540e0",
   "metadata": {},
   "outputs": [
    {
     "data": {
      "text/plain": [
       "(10, 20, 30, 20, 20, 14, 30)"
      ]
     },
     "execution_count": 131,
     "metadata": {},
     "output_type": "execute_result"
    }
   ],
   "source": [
    "numbers"
   ]
  },
  {
   "cell_type": "code",
   "execution_count": 132,
   "id": "dfb69bd4",
   "metadata": {},
   "outputs": [
    {
     "data": {
      "text/plain": [
       "3"
      ]
     },
     "execution_count": 132,
     "metadata": {},
     "output_type": "execute_result"
    }
   ],
   "source": [
    "numbers.count(20)"
   ]
  },
  {
   "cell_type": "code",
   "execution_count": 133,
   "id": "46239a20",
   "metadata": {},
   "outputs": [
    {
     "data": {
      "text/plain": [
       "5"
      ]
     },
     "execution_count": 133,
     "metadata": {},
     "output_type": "execute_result"
    }
   ],
   "source": [
    "numbers.index(14)"
   ]
  },
  {
   "cell_type": "markdown",
   "id": "4e37814f",
   "metadata": {},
   "source": [
    "# SETS"
   ]
  },
  {
   "cell_type": "code",
   "execution_count": 139,
   "id": "b238e519",
   "metadata": {},
   "outputs": [
    {
     "data": {
      "text/plain": [
       "set()"
      ]
     },
     "execution_count": 139,
     "metadata": {},
     "output_type": "execute_result"
    }
   ],
   "source": [
    "roll_num = set()\n",
    "roll_num"
   ]
  },
  {
   "cell_type": "code",
   "execution_count": 140,
   "id": "a90bf8b6",
   "metadata": {},
   "outputs": [
    {
     "data": {
      "text/plain": [
       "set"
      ]
     },
     "execution_count": 140,
     "metadata": {},
     "output_type": "execute_result"
    }
   ],
   "source": [
    "type(roll_num)"
   ]
  },
  {
   "cell_type": "code",
   "execution_count": 141,
   "id": "a64cfe00",
   "metadata": {},
   "outputs": [],
   "source": [
    "roll_num.add(1)"
   ]
  },
  {
   "cell_type": "code",
   "execution_count": 142,
   "id": "5e5aae5c",
   "metadata": {},
   "outputs": [
    {
     "data": {
      "text/plain": [
       "{1}"
      ]
     },
     "execution_count": 142,
     "metadata": {},
     "output_type": "execute_result"
    }
   ],
   "source": [
    "roll_num"
   ]
  },
  {
   "cell_type": "code",
   "execution_count": 143,
   "id": "3f3b8691",
   "metadata": {},
   "outputs": [
    {
     "data": {
      "text/plain": [
       "{1, 2}"
      ]
     },
     "execution_count": 143,
     "metadata": {},
     "output_type": "execute_result"
    }
   ],
   "source": [
    "roll_num.add(2)\n",
    "roll_num"
   ]
  },
  {
   "cell_type": "code",
   "execution_count": 144,
   "id": "7df72c5d",
   "metadata": {},
   "outputs": [],
   "source": [
    "# It does not add the repeating element\n",
    "roll_num.add(1)"
   ]
  },
  {
   "cell_type": "code",
   "execution_count": 145,
   "id": "21a2475d",
   "metadata": {},
   "outputs": [
    {
     "data": {
      "text/plain": [
       "{1, 2}"
      ]
     },
     "execution_count": 145,
     "metadata": {},
     "output_type": "execute_result"
    }
   ],
   "source": [
    "roll_num"
   ]
  },
  {
   "cell_type": "code",
   "execution_count": 146,
   "id": "4870bfeb",
   "metadata": {},
   "outputs": [
    {
     "data": {
      "text/plain": [
       "[1, 2, 3, 1, 2, 5, 6, 3, 6, 7, 4, 3, 2, 1]"
      ]
     },
     "execution_count": 146,
     "metadata": {},
     "output_type": "execute_result"
    }
   ],
   "source": [
    "# Creating list of numbers\n",
    "num = [1,2,3,1,2,5,6,3,6,7,4,3,2,1]\n",
    "num"
   ]
  },
  {
   "cell_type": "code",
   "execution_count": 147,
   "id": "732263b1",
   "metadata": {},
   "outputs": [
    {
     "data": {
      "text/plain": [
       "{1, 2, 3, 4, 5, 6, 7}"
      ]
     },
     "execution_count": 147,
     "metadata": {},
     "output_type": "execute_result"
    }
   ],
   "source": [
    "num = set(num)\n",
    "num"
   ]
  },
  {
   "cell_type": "markdown",
   "id": "c95c81f1",
   "metadata": {},
   "source": [
    "# Dictionary"
   ]
  },
  {
   "cell_type": "code",
   "execution_count": 155,
   "id": "23317f6e",
   "metadata": {},
   "outputs": [
    {
     "data": {
      "text/plain": [
       "{'Name': ['Aniket', 'Mansi', 'Ankit'],\n",
       " 'Location': ['Kanpur', 'Noida', 'Gurugram']}"
      ]
     },
     "execution_count": 155,
     "metadata": {},
     "output_type": "execute_result"
    }
   ],
   "source": [
    "my_dict = {\"Name\":[\"Aniket\", \"Mansi\", \"Ankit\"], \"Location\":[\"Kanpur\", \"Noida\", \"Gurugram\"]}\n",
    "my_dict"
   ]
  },
  {
   "cell_type": "code",
   "execution_count": 156,
   "id": "ca9019a8",
   "metadata": {},
   "outputs": [
    {
     "data": {
      "text/plain": [
       "dict_keys(['Name', 'Location'])"
      ]
     },
     "execution_count": 156,
     "metadata": {},
     "output_type": "execute_result"
    }
   ],
   "source": [
    "my_dict.keys()"
   ]
  },
  {
   "cell_type": "code",
   "execution_count": 157,
   "id": "644bbe78",
   "metadata": {},
   "outputs": [
    {
     "data": {
      "text/plain": [
       "dict_values([['Aniket', 'Mansi', 'Ankit'], ['Kanpur', 'Noida', 'Gurugram']])"
      ]
     },
     "execution_count": 157,
     "metadata": {},
     "output_type": "execute_result"
    }
   ],
   "source": [
    "my_dict.values()"
   ]
  },
  {
   "cell_type": "code",
   "execution_count": 158,
   "id": "8a1748ed",
   "metadata": {},
   "outputs": [
    {
     "data": {
      "text/plain": [
       "dict_items([('Name', ['Aniket', 'Mansi', 'Ankit']), ('Location', ['Kanpur', 'Noida', 'Gurugram'])])"
      ]
     },
     "execution_count": 158,
     "metadata": {},
     "output_type": "execute_result"
    }
   ],
   "source": [
    "my_dict.items()"
   ]
  },
  {
   "cell_type": "code",
   "execution_count": 159,
   "id": "db4e874c",
   "metadata": {},
   "outputs": [
    {
     "data": {
      "text/plain": [
       "['Aniket', 'Mansi', 'Ankit']"
      ]
     },
     "execution_count": 159,
     "metadata": {},
     "output_type": "execute_result"
    }
   ],
   "source": [
    "my_dict[\"Name\"]"
   ]
  },
  {
   "cell_type": "code",
   "execution_count": 160,
   "id": "06e0cdcf",
   "metadata": {},
   "outputs": [
    {
     "data": {
      "text/plain": [
       "['Kanpur', 'Noida', 'Gurugram']"
      ]
     },
     "execution_count": 160,
     "metadata": {},
     "output_type": "execute_result"
    }
   ],
   "source": [
    "my_dict[\"Location\"]"
   ]
  },
  {
   "cell_type": "code",
   "execution_count": 161,
   "id": "f9b633be",
   "metadata": {},
   "outputs": [
    {
     "data": {
      "text/plain": [
       "'Noida'"
      ]
     },
     "execution_count": 161,
     "metadata": {},
     "output_type": "execute_result"
    }
   ],
   "source": [
    "my_dict[\"Location\"][1]"
   ]
  },
  {
   "cell_type": "code",
   "execution_count": 162,
   "id": "05324f79",
   "metadata": {},
   "outputs": [
    {
     "data": {
      "text/plain": [
       "False"
      ]
     },
     "execution_count": 162,
     "metadata": {},
     "output_type": "execute_result"
    }
   ],
   "source": [
    "my_dict[\"Name\"][0].isupper()"
   ]
  },
  {
   "cell_type": "code",
   "execution_count": 163,
   "id": "a1c79bdf",
   "metadata": {},
   "outputs": [
    {
     "data": {
      "text/plain": [
       "'ANIKET'"
      ]
     },
     "execution_count": 163,
     "metadata": {},
     "output_type": "execute_result"
    }
   ],
   "source": [
    "my_dict[\"Name\"][0].upper()"
   ]
  },
  {
   "cell_type": "code",
   "execution_count": 164,
   "id": "2801c160",
   "metadata": {},
   "outputs": [
    {
     "data": {
      "text/plain": [
       "{'Name': ['Aniket', 'Mansi', 'Ankit'],\n",
       " 'Location': ['Kanpur', 'Noida', 'Gurugram']}"
      ]
     },
     "execution_count": 164,
     "metadata": {},
     "output_type": "execute_result"
    }
   ],
   "source": [
    "my_dict"
   ]
  },
  {
   "cell_type": "code",
   "execution_count": 165,
   "id": "6dd0cca5",
   "metadata": {},
   "outputs": [],
   "source": [
    "my_dict[\"Year\"] = [2009,2014,2017]"
   ]
  },
  {
   "cell_type": "code",
   "execution_count": 167,
   "id": "a5bfc977",
   "metadata": {},
   "outputs": [
    {
     "data": {
      "text/plain": [
       "{'Name': ['Aniket', 'Mansi', 'Ankit'],\n",
       " 'Location': ['Kanpur', 'Noida', 'Gurugram'],\n",
       " 'Year': [2009, 2014, 2017]}"
      ]
     },
     "execution_count": 167,
     "metadata": {},
     "output_type": "execute_result"
    }
   ],
   "source": [
    "my_dict"
   ]
  },
  {
   "cell_type": "code",
   "execution_count": 171,
   "id": "09ed984d",
   "metadata": {},
   "outputs": [
    {
     "ename": "NameError",
     "evalue": "name 'Delhi' is not defined",
     "output_type": "error",
     "traceback": [
      "\u001b[1;31m---------------------------------------------------------------------------\u001b[0m",
      "\u001b[1;31mNameError\u001b[0m                                 Traceback (most recent call last)",
      "\u001b[1;32m<ipython-input-171-00ebaf75378f>\u001b[0m in \u001b[0;36m<module>\u001b[1;34m\u001b[0m\n\u001b[1;32m----> 1\u001b[1;33m \u001b[0mmy_dict\u001b[0m\u001b[1;33m[\u001b[0m\u001b[1;34m\"Location\"\u001b[0m\u001b[1;33m]\u001b[0m\u001b[1;33m[\u001b[0m\u001b[1;36m1\u001b[0m\u001b[1;33m]\u001b[0m \u001b[1;33m=\u001b[0m \u001b[0mmy_dict\u001b[0m\u001b[1;33m[\u001b[0m\u001b[1;34m\"Location\"\u001b[0m\u001b[1;33m]\u001b[0m\u001b[1;33m[\u001b[0m\u001b[1;36m1\u001b[0m\u001b[1;33m]\u001b[0m\u001b[1;33m[\u001b[0m\u001b[0mDelhi\u001b[0m\u001b[1;33m]\u001b[0m\u001b[1;33m\u001b[0m\u001b[1;33m\u001b[0m\u001b[0m\n\u001b[0m",
      "\u001b[1;31mNameError\u001b[0m: name 'Delhi' is not defined"
     ]
    }
   ],
   "source": [
    "my_dict[\"Location\"][1] = my_dict[\"Location\"][1][Delhi]"
   ]
  },
  {
   "cell_type": "code",
   "execution_count": 172,
   "id": "d7e181ce",
   "metadata": {},
   "outputs": [],
   "source": [
    "my_dict[\"Location\"][1] = \"Delhi\""
   ]
  },
  {
   "cell_type": "code",
   "execution_count": 173,
   "id": "ad0bada5",
   "metadata": {},
   "outputs": [
    {
     "data": {
      "text/plain": [
       "{'Name': ['Aniket', 'Mansi', 'Ankit'],\n",
       " 'Location': ['Kanpur', 'Delhi', 'Gurugram'],\n",
       " 'Year': [2009, 2014, 2017]}"
      ]
     },
     "execution_count": 173,
     "metadata": {},
     "output_type": "execute_result"
    }
   ],
   "source": [
    "my_dict"
   ]
  },
  {
   "cell_type": "code",
   "execution_count": 174,
   "id": "6613b2de",
   "metadata": {},
   "outputs": [],
   "source": [
    "my_dict.update({\"Year\":1997})"
   ]
  },
  {
   "cell_type": "code",
   "execution_count": 175,
   "id": "1be28fde",
   "metadata": {},
   "outputs": [
    {
     "data": {
      "text/plain": [
       "{'Name': ['Aniket', 'Mansi', 'Ankit'],\n",
       " 'Location': ['Kanpur', 'Delhi', 'Gurugram'],\n",
       " 'Year': 1997}"
      ]
     },
     "execution_count": 175,
     "metadata": {},
     "output_type": "execute_result"
    }
   ],
   "source": [
    "my_dict"
   ]
  },
  {
   "cell_type": "markdown",
   "id": "8b11d6aa",
   "metadata": {},
   "source": [
    "## BRANCHING(IF/ELIF/ELSE)"
   ]
  },
  {
   "cell_type": "code",
   "execution_count": 184,
   "id": "74ff762d",
   "metadata": {},
   "outputs": [
    {
     "name": "stdout",
     "output_type": "stream",
     "text": [
      "NUmber is different\n"
     ]
    }
   ],
   "source": [
    "i = 16\n",
    "\n",
    "if i <= 10:\n",
    "    print(\"Less than 10\")\n",
    "\n",
    "elif i > 10 and i <= 15:\n",
    "    print(\"NUmber is between 10 to 15\")\n",
    "\n",
    "else:\n",
    "    print(\"NUmber is different\")"
   ]
  },
  {
   "cell_type": "code",
   "execution_count": 187,
   "id": "924ffdd2",
   "metadata": {},
   "outputs": [
    {
     "name": "stdout",
     "output_type": "stream",
     "text": [
      "NUmber is different\n"
     ]
    }
   ],
   "source": [
    "i =16\n",
    "print (\"Less than 10\") if i<=10 else print(\"NUmber is between 10 to 15\") if i>10 and i <= 15 else print(\"NUmber is different\")"
   ]
  },
  {
   "cell_type": "code",
   "execution_count": 196,
   "id": "bfd8521e",
   "metadata": {},
   "outputs": [
    {
     "name": "stdout",
     "output_type": "stream",
     "text": [
      "Enter your marks - 61\n",
      "First Class\n"
     ]
    }
   ],
   "source": [
    "marks = int(input(\"Enter your marks - \"))\n",
    "\n",
    "if marks > 60:\n",
    "    if marks >= 75:\n",
    "        print(\"Distinction\")\n",
    "    else:\n",
    "        print(\"First Class\")\n",
    "        \n",
    "elif marks > 50 and marks <= 60:\n",
    "    print(\"Second Class\")\n",
    "    \n",
    "elif marks >= 33:\n",
    "    print(\"Pass\")\n",
    "    \n",
    "else:\n",
    "    print(\"Fail\")"
   ]
  },
  {
   "cell_type": "markdown",
   "id": "426002b2",
   "metadata": {},
   "source": [
    "# LOOPS"
   ]
  },
  {
   "cell_type": "code",
   "execution_count": 198,
   "id": "18599edc",
   "metadata": {},
   "outputs": [
    {
     "name": "stdout",
     "output_type": "stream",
     "text": [
      "Shimla\n",
      "Delhi\n",
      "Kanpur\n",
      "Pune\n",
      "Mumbai\n"
     ]
    }
   ],
   "source": [
    "location = [\"Shimla\", \"Delhi\", \"Kanpur\", \"Pune\", \"Mumbai\"]\n",
    "\n",
    "for i in location:\n",
    "    print(i)"
   ]
  },
  {
   "cell_type": "code",
   "execution_count": 199,
   "id": "e3eadb44",
   "metadata": {},
   "outputs": [
    {
     "name": "stdout",
     "output_type": "stream",
     "text": [
      "2000\n",
      "3000\n",
      "4000\n",
      "1500\n",
      "3200\n",
      "2400\n",
      "5400\n"
     ]
    }
   ],
   "source": [
    "salary = [2000,3000,4000,1500,3200,2400,5400]\n",
    "\n",
    "for i in salary:\n",
    "    print(i)"
   ]
  },
  {
   "cell_type": "code",
   "execution_count": 200,
   "id": "5f0ac3a1",
   "metadata": {},
   "outputs": [
    {
     "name": "stdout",
     "output_type": "stream",
     "text": [
      "1500\n"
     ]
    }
   ],
   "source": [
    "for i in salary:\n",
    "    if i < 2000:\n",
    "        print(i)"
   ]
  },
  {
   "cell_type": "code",
   "execution_count": 201,
   "id": "08b9f2f6",
   "metadata": {},
   "outputs": [
    {
     "name": "stdout",
     "output_type": "stream",
     "text": [
      "Fail\n",
      "Pass\n",
      "First Class\n",
      "Fail\n",
      "Pass\n",
      "Pass\n",
      "Pass\n",
      "First Class\n",
      "Distinction\n",
      "Distinction\n"
     ]
    }
   ],
   "source": [
    "stud_score = [23,45,65,32,46,48,56,65,75,89]\n",
    "\n",
    "for i in stud_score:\n",
    "    if i >= 60:\n",
    "        if i >= 75:\n",
    "            print(\"Distinction\")\n",
    "        else:\n",
    "            print(\"First Class\")\n",
    "    elif i > 50 and i <= 45:\n",
    "        print(\"Second Class\")\n",
    "    elif i >=33:\n",
    "        print(\"Pass\")\n",
    "    else:\n",
    "        print(\"Fail\")\n",
    "    "
   ]
  },
  {
   "cell_type": "markdown",
   "id": "991c564a",
   "metadata": {},
   "source": [
    "# LIST COMPREHENSION"
   ]
  },
  {
   "cell_type": "code",
   "execution_count": 202,
   "id": "aea68b65",
   "metadata": {},
   "outputs": [
    {
     "name": "stdout",
     "output_type": "stream",
     "text": [
      "6000\n",
      "7000\n",
      "8000\n",
      "9000\n"
     ]
    }
   ],
   "source": [
    "salary = [2000,3000,4000,5000,6000,7000,8000,9000]\n",
    "\n",
    "for i in salary:\n",
    "    if i > 5500:\n",
    "        print(i)"
   ]
  },
  {
   "cell_type": "code",
   "execution_count": 204,
   "id": "97000bcb",
   "metadata": {},
   "outputs": [
    {
     "data": {
      "text/plain": [
       "[6000, 7000, 8000, 9000]"
      ]
     },
     "execution_count": 204,
     "metadata": {},
     "output_type": "execute_result"
    }
   ],
   "source": [
    "sal = [i for i in salary if i > 5500]\n",
    "sal"
   ]
  },
  {
   "cell_type": "code",
   "execution_count": 1,
   "id": "5714e45d",
   "metadata": {},
   "outputs": [
    {
     "name": "stdout",
     "output_type": "stream",
     "text": [
      "Income till date -  10000\n",
      "Income till date -  30000\n",
      "Income till date -  54000\n",
      "Income till date -  97000\n",
      "Income till date -  129000\n",
      "Income till date -  179000\n",
      "Income till date -  259000\n",
      "The total income is -  259000\n"
     ]
    }
   ],
   "source": [
    "daily_sales = [10000,20000,24000,43000,32000,50000,80000]\n",
    "\n",
    "#Variable to store the sum\n",
    "\n",
    "n = 0\n",
    "\n",
    "for i in daily_sales:\n",
    "    n = n + i\n",
    "    print(\"Income till date - \", n)\n",
    "    \n",
    "print(\"The total income is - \", n)"
   ]
  },
  {
   "cell_type": "markdown",
   "id": "90f7274b",
   "metadata": {},
   "source": [
    "## FOR LOOP WITH ELSE"
   ]
  },
  {
   "cell_type": "code",
   "execution_count": 2,
   "id": "2db6b1f4",
   "metadata": {},
   "outputs": [
    {
     "name": "stdout",
     "output_type": "stream",
     "text": [
      "20\n",
      "30\n",
      "10\n",
      "40\n",
      "50\n",
      "21\n",
      "20\n",
      "10\n",
      "40\n",
      "No items left\n"
     ]
    }
   ],
   "source": [
    "numbers = [20,30,10,40,50,21,20,10,40]\n",
    "for i in numbers:\n",
    "    print(i)\n",
    "    \n",
    "else:\n",
    "    print(\"No items left\")"
   ]
  },
  {
   "cell_type": "markdown",
   "id": "ba42743e",
   "metadata": {},
   "source": [
    "# WHILE LOOP"
   ]
  },
  {
   "cell_type": "code",
   "execution_count": 4,
   "id": "c3e87744",
   "metadata": {},
   "outputs": [
    {
     "name": "stdout",
     "output_type": "stream",
     "text": [
      "1\n",
      "3\n",
      "6\n",
      "10\n",
      "15\n"
     ]
    }
   ],
   "source": [
    "n = 5\n",
    "\n",
    "sum = 0\n",
    "\n",
    "i = 1\n",
    "\n",
    "while i <= n:\n",
    "    sum = sum +i\n",
    "    i = i+ 1    # Update counter\n",
    "    print(sum)"
   ]
  },
  {
   "cell_type": "markdown",
   "id": "6e07b614",
   "metadata": {},
   "source": [
    "# Enumerate"
   ]
  },
  {
   "cell_type": "markdown",
   "id": "263b49d5",
   "metadata": {},
   "source": [
    "It allows us to iterate through a sequence but it keeps track of both the index and the element."
   ]
  },
  {
   "cell_type": "code",
   "execution_count": 5,
   "id": "9b5bc44f",
   "metadata": {},
   "outputs": [
    {
     "name": "stdout",
     "output_type": "stream",
     "text": [
      "(0, 'Aniket')\n",
      "(1, 'Mansi')\n",
      "(2, 'Ankit')\n",
      "(3, 'Himanshu')\n",
      "(4, 'Divyansh')\n"
     ]
    }
   ],
   "source": [
    "name = [\"Aniket\", \"Mansi\", \"Ankit\", \"Himanshu\", \"Divyansh\"]\n",
    "\n",
    "for i in enumerate(name):\n",
    "    print(i)"
   ]
  },
  {
   "cell_type": "code",
   "execution_count": 9,
   "id": "4b4e8981",
   "metadata": {},
   "outputs": [
    {
     "name": "stdout",
     "output_type": "stream",
     "text": [
      "1 Aniket\n",
      "2 Mansi\n",
      "3 Ankit\n",
      "4 Himanshu\n",
      "5 Divyansh\n"
     ]
    }
   ],
   "source": [
    "#Starting index from any number\n",
    "\n",
    "for i, j in enumerate(name,1):\n",
    "    print(i,j)"
   ]
  },
  {
   "cell_type": "code",
   "execution_count": 10,
   "id": "7c628be6",
   "metadata": {},
   "outputs": [
    {
     "data": {
      "text/plain": [
       "5"
      ]
     },
     "execution_count": 10,
     "metadata": {},
     "output_type": "execute_result"
    }
   ],
   "source": [
    "i"
   ]
  },
  {
   "cell_type": "code",
   "execution_count": 11,
   "id": "6f282371",
   "metadata": {},
   "outputs": [
    {
     "data": {
      "text/plain": [
       "'Divyansh'"
      ]
     },
     "execution_count": 11,
     "metadata": {},
     "output_type": "execute_result"
    }
   ],
   "source": [
    "j"
   ]
  },
  {
   "cell_type": "markdown",
   "id": "0af0fe03",
   "metadata": {},
   "source": [
    "# ZIP"
   ]
  },
  {
   "cell_type": "code",
   "execution_count": 12,
   "id": "22d0a7a9",
   "metadata": {},
   "outputs": [],
   "source": [
    "roll_num = [10,20,30,40,50]\n",
    "\n",
    "details = list(zip(name,roll_num))"
   ]
  },
  {
   "cell_type": "code",
   "execution_count": 13,
   "id": "3602f38a",
   "metadata": {},
   "outputs": [
    {
     "data": {
      "text/plain": [
       "[('Aniket', 10),\n",
       " ('Mansi', 20),\n",
       " ('Ankit', 30),\n",
       " ('Himanshu', 40),\n",
       " ('Divyansh', 50)]"
      ]
     },
     "execution_count": 13,
     "metadata": {},
     "output_type": "execute_result"
    }
   ],
   "source": [
    "details"
   ]
  },
  {
   "cell_type": "code",
   "execution_count": 14,
   "id": "d80feb83",
   "metadata": {},
   "outputs": [
    {
     "data": {
      "text/plain": [
       "['Aniket', 'Mansi', 'Ankit', 'Himanshu', 'Divyansh']"
      ]
     },
     "execution_count": 14,
     "metadata": {},
     "output_type": "execute_result"
    }
   ],
   "source": [
    "name"
   ]
  },
  {
   "cell_type": "code",
   "execution_count": 15,
   "id": "41e705e7",
   "metadata": {},
   "outputs": [
    {
     "data": {
      "text/plain": [
       "[10, 20, 30, 40, 50]"
      ]
     },
     "execution_count": 15,
     "metadata": {},
     "output_type": "execute_result"
    }
   ],
   "source": [
    "roll_num"
   ]
  },
  {
   "cell_type": "markdown",
   "id": "b2bbe093",
   "metadata": {},
   "source": [
    "# UNZIP"
   ]
  },
  {
   "cell_type": "code",
   "execution_count": 16,
   "id": "27f6c483",
   "metadata": {},
   "outputs": [],
   "source": [
    "name, roll_num = zip(*details)"
   ]
  },
  {
   "cell_type": "code",
   "execution_count": 17,
   "id": "0ca41195",
   "metadata": {},
   "outputs": [
    {
     "data": {
      "text/plain": [
       "('Aniket', 'Mansi', 'Ankit', 'Himanshu', 'Divyansh')"
      ]
     },
     "execution_count": 17,
     "metadata": {},
     "output_type": "execute_result"
    }
   ],
   "source": [
    "name"
   ]
  },
  {
   "cell_type": "code",
   "execution_count": 18,
   "id": "99203840",
   "metadata": {},
   "outputs": [
    {
     "data": {
      "text/plain": [
       "(10, 20, 30, 40, 50)"
      ]
     },
     "execution_count": 18,
     "metadata": {},
     "output_type": "execute_result"
    }
   ],
   "source": [
    "roll_num"
   ]
  },
  {
   "cell_type": "markdown",
   "id": "fcea0e69",
   "metadata": {},
   "source": [
    "# ENUMERATE AND ZIP"
   ]
  },
  {
   "cell_type": "code",
   "execution_count": 19,
   "id": "352b7d60",
   "metadata": {},
   "outputs": [
    {
     "name": "stdout",
     "output_type": "stream",
     "text": [
      "1 Aniket 10\n",
      "2 Mansi 20\n",
      "3 Ankit 30\n",
      "4 Himanshu 40\n",
      "5 Divyansh 50\n"
     ]
    }
   ],
   "source": [
    "for i,(j,k) in enumerate(zip(name,roll_num),1):\n",
    "    print(i,j,k)"
   ]
  },
  {
   "cell_type": "markdown",
   "id": "cab7ee28",
   "metadata": {},
   "source": [
    "# BREAK and CONTINUE"
   ]
  },
  {
   "cell_type": "code",
   "execution_count": 1,
   "id": "a436d5ea",
   "metadata": {},
   "outputs": [
    {
     "name": "stdout",
     "output_type": "stream",
     "text": [
      "Kanpur\n",
      "Lucknow\n"
     ]
    }
   ],
   "source": [
    "city = [\"Kanpur\",\"Lucknow\",\"Noida\",\"Shimla\",\"Prayagraj\",\"Banaras\",\"Aligarh\"]\n",
    "\n",
    "for i in city:\n",
    "    if i == \"Noida\":\n",
    "        break\n",
    "    print(i)"
   ]
  },
  {
   "cell_type": "code",
   "execution_count": 44,
   "id": "fe2a24e2",
   "metadata": {},
   "outputs": [
    {
     "name": "stdout",
     "output_type": "stream",
     "text": [
      "2000\n",
      "3000\n",
      "4000\n",
      "5000\n",
      "2000\n"
     ]
    }
   ],
   "source": [
    "sal = [2000,3000,4000,5000,2000,6000,8000,4500]\n",
    "\n",
    "for i in sal:\n",
    "    if i>5200:\n",
    "        break\n",
    "    print(i)"
   ]
  },
  {
   "cell_type": "code",
   "execution_count": 2,
   "id": "19e5cd53",
   "metadata": {},
   "outputs": [
    {
     "name": "stdout",
     "output_type": "stream",
     "text": [
      "Kanpur\n",
      "Lucknow\n",
      "Shimla\n",
      "Prayagraj\n",
      "Banaras\n",
      "Aligarh\n"
     ]
    }
   ],
   "source": [
    "city = [\"Kanpur\",\"Lucknow\",\"Noida\",\"Shimla\",\"Prayagraj\",\"Banaras\",\"Aligarh\"]\n",
    "\n",
    "for i in city:\n",
    "    if i == \"Noida\":\n",
    "        continue\n",
    "    print(i)"
   ]
  },
  {
   "cell_type": "code",
   "execution_count": 48,
   "id": "f704bbba",
   "metadata": {},
   "outputs": [
    {
     "name": "stdout",
     "output_type": "stream",
     "text": [
      "2000\n",
      "3000\n",
      "4000\n",
      "5000\n",
      "2000\n",
      "4500\n"
     ]
    }
   ],
   "source": [
    "sal = [2000,3000,4000,5000,2000,6000,8000,4500]\n",
    "\n",
    "for i in sal:\n",
    "    if i>5200:\n",
    "        continue\n",
    "    print(i)"
   ]
  },
  {
   "cell_type": "markdown",
   "id": "fed1bd43",
   "metadata": {},
   "source": [
    "# RANGE"
   ]
  },
  {
   "cell_type": "code",
   "execution_count": 50,
   "id": "b56359c5",
   "metadata": {},
   "outputs": [
    {
     "name": "stdout",
     "output_type": "stream",
     "text": [
      "range(0, 10)\n"
     ]
    }
   ],
   "source": [
    "print(range(10))"
   ]
  },
  {
   "cell_type": "code",
   "execution_count": 51,
   "id": "15c9e704",
   "metadata": {},
   "outputs": [
    {
     "data": {
      "text/plain": [
       "range(0, 10)"
      ]
     },
     "execution_count": 51,
     "metadata": {},
     "output_type": "execute_result"
    }
   ],
   "source": [
    "range(10)"
   ]
  },
  {
   "cell_type": "code",
   "execution_count": 52,
   "id": "a0ad513c",
   "metadata": {},
   "outputs": [
    {
     "name": "stdout",
     "output_type": "stream",
     "text": [
      "[0, 1, 2, 3, 4, 5, 6, 7, 8, 9]\n"
     ]
    }
   ],
   "source": [
    "print(list(range(10)))"
   ]
  },
  {
   "cell_type": "code",
   "execution_count": 53,
   "id": "ce3aee49",
   "metadata": {},
   "outputs": [],
   "source": [
    "# Step-size\n",
    "step = list(range(0,31,5))"
   ]
  },
  {
   "cell_type": "code",
   "execution_count": 54,
   "id": "bbb91789",
   "metadata": {},
   "outputs": [
    {
     "data": {
      "text/plain": [
       "[0, 5, 10, 15, 20, 25, 30]"
      ]
     },
     "execution_count": 54,
     "metadata": {},
     "output_type": "execute_result"
    }
   ],
   "source": [
    "step"
   ]
  },
  {
   "cell_type": "code",
   "execution_count": 56,
   "id": "f266a802",
   "metadata": {},
   "outputs": [
    {
     "data": {
      "text/plain": [
       "[1600,\n",
       " 1500,\n",
       " 1400,\n",
       " 1300,\n",
       " 1200,\n",
       " 1100,\n",
       " 1000,\n",
       " 900,\n",
       " 800,\n",
       " 700,\n",
       " 600,\n",
       " 500,\n",
       " 400,\n",
       " 300,\n",
       " 200]"
      ]
     },
     "execution_count": 56,
     "metadata": {},
     "output_type": "execute_result"
    }
   ],
   "source": [
    "# Reverse\n",
    "\n",
    "rev = list(range(1600,100,-100))\n",
    "rev"
   ]
  },
  {
   "cell_type": "markdown",
   "id": "d29c0569",
   "metadata": {},
   "source": [
    "## STRING INDEXING"
   ]
  },
  {
   "cell_type": "code",
   "execution_count": 57,
   "id": "0259c34e",
   "metadata": {},
   "outputs": [],
   "source": [
    "quote = \"I'll do it in any situation.\""
   ]
  },
  {
   "cell_type": "code",
   "execution_count": 58,
   "id": "52aa4ae3",
   "metadata": {},
   "outputs": [
    {
     "data": {
      "text/plain": [
       "\"I'll do it in any situation.\""
      ]
     },
     "execution_count": 58,
     "metadata": {},
     "output_type": "execute_result"
    }
   ],
   "source": [
    "quote"
   ]
  },
  {
   "cell_type": "code",
   "execution_count": 59,
   "id": "8c7afc18",
   "metadata": {},
   "outputs": [
    {
     "name": "stdout",
     "output_type": "stream",
     "text": [
      "I'll do it in any situation.\n"
     ]
    }
   ],
   "source": [
    "print(quote)"
   ]
  },
  {
   "cell_type": "code",
   "execution_count": 60,
   "id": "91065a44",
   "metadata": {},
   "outputs": [
    {
     "data": {
      "text/plain": [
       "'I'"
      ]
     },
     "execution_count": 60,
     "metadata": {},
     "output_type": "execute_result"
    }
   ],
   "source": [
    "# First element\n",
    "quote[0]"
   ]
  },
  {
   "cell_type": "code",
   "execution_count": 61,
   "id": "64793b83",
   "metadata": {},
   "outputs": [
    {
     "data": {
      "text/plain": [
       "\"I'll\""
      ]
     },
     "execution_count": 61,
     "metadata": {},
     "output_type": "execute_result"
    }
   ],
   "source": [
    "quote[0:4]"
   ]
  },
  {
   "cell_type": "code",
   "execution_count": 63,
   "id": "eeb46b6d",
   "metadata": {},
   "outputs": [
    {
     "data": {
      "text/plain": [
       "'.'"
      ]
     },
     "execution_count": 63,
     "metadata": {},
     "output_type": "execute_result"
    }
   ],
   "source": [
    "# Negative Indexing\n",
    "\n",
    "quote[-1]"
   ]
  },
  {
   "cell_type": "code",
   "execution_count": 64,
   "id": "00154654",
   "metadata": {},
   "outputs": [
    {
     "data": {
      "text/plain": [
       "'n'"
      ]
     },
     "execution_count": 64,
     "metadata": {},
     "output_type": "execute_result"
    }
   ],
   "source": [
    "quote[-2]"
   ]
  },
  {
   "cell_type": "code",
   "execution_count": 65,
   "id": "189f96e0",
   "metadata": {},
   "outputs": [
    {
     "data": {
      "text/plain": [
       "\".noitautis yna ni ti od ll'I\""
      ]
     },
     "execution_count": 65,
     "metadata": {},
     "output_type": "execute_result"
    }
   ],
   "source": [
    "quote[::-1]"
   ]
  },
  {
   "cell_type": "code",
   "execution_count": 66,
   "id": "35e48a30",
   "metadata": {},
   "outputs": [
    {
     "data": {
      "text/plain": [
       "'.otui n i'"
      ]
     },
     "execution_count": 66,
     "metadata": {},
     "output_type": "execute_result"
    }
   ],
   "source": [
    "quote[:10:-2]"
   ]
  },
  {
   "cell_type": "code",
   "execution_count": 67,
   "id": "827d4fad",
   "metadata": {},
   "outputs": [
    {
     "data": {
      "text/plain": [
       "\"I'll do it in any situation.\""
      ]
     },
     "execution_count": 67,
     "metadata": {},
     "output_type": "execute_result"
    }
   ],
   "source": [
    "quote"
   ]
  },
  {
   "cell_type": "code",
   "execution_count": 68,
   "id": "31dd73cb",
   "metadata": {},
   "outputs": [
    {
     "data": {
      "text/plain": [
       "'Il oi naystain'"
      ]
     },
     "execution_count": 68,
     "metadata": {},
     "output_type": "execute_result"
    }
   ],
   "source": [
    "quote[::2]"
   ]
  },
  {
   "cell_type": "markdown",
   "id": "c96ead1c",
   "metadata": {},
   "source": [
    "# FUNCTIONS"
   ]
  },
  {
   "cell_type": "code",
   "execution_count": 69,
   "id": "f7ea2345",
   "metadata": {},
   "outputs": [],
   "source": [
    "def say_hello():\n",
    "    print(\"Hi! Mr.\")"
   ]
  },
  {
   "cell_type": "code",
   "execution_count": 70,
   "id": "24b45905",
   "metadata": {},
   "outputs": [
    {
     "name": "stdout",
     "output_type": "stream",
     "text": [
      "Hi! Mr.\n"
     ]
    }
   ],
   "source": [
    "say_hello()"
   ]
  },
  {
   "cell_type": "code",
   "execution_count": 71,
   "id": "06d33e85",
   "metadata": {},
   "outputs": [],
   "source": [
    "def greeting(name):\n",
    "    print(\"Hi! Mr.\",name)"
   ]
  },
  {
   "cell_type": "code",
   "execution_count": 73,
   "id": "b8794c74",
   "metadata": {},
   "outputs": [
    {
     "name": "stdout",
     "output_type": "stream",
     "text": [
      "Hi! Mr. Aniket\n"
     ]
    }
   ],
   "source": [
    "greeting(\"Aniket\")"
   ]
  },
  {
   "cell_type": "markdown",
   "id": "b85928da",
   "metadata": {},
   "source": [
    "### Using return"
   ]
  },
  {
   "cell_type": "code",
   "execution_count": 15,
   "id": "67415b0a",
   "metadata": {},
   "outputs": [],
   "source": [
    "def sal_inc(salary):\n",
    "    if salary <= 8000:\n",
    "        salary += 5000\n",
    "        return(\"New salary - \", salary)\n",
    "    else:\n",
    "         print(\"No changes in the salary- \", salary)\n",
    "    "
   ]
  },
  {
   "cell_type": "code",
   "execution_count": 16,
   "id": "b49c2e47",
   "metadata": {},
   "outputs": [
    {
     "data": {
      "text/plain": [
       "('New salary - ', 10000)"
      ]
     },
     "execution_count": 16,
     "metadata": {},
     "output_type": "execute_result"
    }
   ],
   "source": [
    "sal_inc(5000)"
   ]
  },
  {
   "cell_type": "code",
   "execution_count": 17,
   "id": "453ebf8d",
   "metadata": {},
   "outputs": [
    {
     "name": "stdout",
     "output_type": "stream",
     "text": [
      "No changes in the salary-  10000\n"
     ]
    }
   ],
   "source": [
    "sal_inc(10000)"
   ]
  },
  {
   "cell_type": "code",
   "execution_count": 18,
   "id": "77f4e3ba",
   "metadata": {},
   "outputs": [
    {
     "data": {
      "text/plain": [
       "('New salary - ', 9000)"
      ]
     },
     "execution_count": 18,
     "metadata": {},
     "output_type": "execute_result"
    }
   ],
   "source": [
    "sal_inc(4000)"
   ]
  },
  {
   "cell_type": "code",
   "execution_count": 19,
   "id": "90eb5337",
   "metadata": {},
   "outputs": [
    {
     "name": "stdout",
     "output_type": "stream",
     "text": [
      "No changes in the salary-  15000\n"
     ]
    }
   ],
   "source": [
    "sal_inc(15000)"
   ]
  },
  {
   "cell_type": "markdown",
   "id": "b02c08a7",
   "metadata": {},
   "source": [
    "## With Multiple Argument"
   ]
  },
  {
   "cell_type": "code",
   "execution_count": 20,
   "id": "ae06eac0",
   "metadata": {},
   "outputs": [],
   "source": [
    "def stud_marks(m,s):\n",
    "    return m+s"
   ]
  },
  {
   "cell_type": "code",
   "execution_count": 21,
   "id": "6518a485",
   "metadata": {},
   "outputs": [
    {
     "name": "stdout",
     "output_type": "stream",
     "text": [
      "Your total marks are  139\n"
     ]
    }
   ],
   "source": [
    "print(\"Your total marks are \",stud_marks(65,74))"
   ]
  },
  {
   "cell_type": "code",
   "execution_count": 27,
   "id": "9b36d95d",
   "metadata": {},
   "outputs": [],
   "source": [
    "mansi_marks = stud_marks(22,22)"
   ]
  },
  {
   "cell_type": "code",
   "execution_count": 28,
   "id": "c13d9143",
   "metadata": {},
   "outputs": [
    {
     "data": {
      "text/plain": [
       "44"
      ]
     },
     "execution_count": 28,
     "metadata": {},
     "output_type": "execute_result"
    }
   ],
   "source": [
    "mansi_marks"
   ]
  },
  {
   "cell_type": "code",
   "execution_count": 29,
   "id": "5670f545",
   "metadata": {},
   "outputs": [
    {
     "name": "stdout",
     "output_type": "stream",
     "text": [
      "You are Failed!\n"
     ]
    }
   ],
   "source": [
    "if mansi_marks < 66:\n",
    "    print(\"You are Failed!\")\n",
    "else: \n",
    "    print(\"You are Pass!\")"
   ]
  },
  {
   "cell_type": "code",
   "execution_count": 30,
   "id": "b1843a81",
   "metadata": {},
   "outputs": [],
   "source": [
    "def stud_marks(m,s,c):\n",
    "    return m+s+c"
   ]
  },
  {
   "cell_type": "code",
   "execution_count": 38,
   "id": "cebee66d",
   "metadata": {},
   "outputs": [],
   "source": [
    "ani_marks = stud_marks(20,20,40)"
   ]
  },
  {
   "cell_type": "code",
   "execution_count": 39,
   "id": "4dcc44c7",
   "metadata": {},
   "outputs": [
    {
     "data": {
      "text/plain": [
       "80"
      ]
     },
     "execution_count": 39,
     "metadata": {},
     "output_type": "execute_result"
    }
   ],
   "source": [
    "ani_marks"
   ]
  },
  {
   "cell_type": "code",
   "execution_count": 40,
   "id": "be89f64d",
   "metadata": {},
   "outputs": [
    {
     "name": "stdout",
     "output_type": "stream",
     "text": [
      "You just passed.\n"
     ]
    }
   ],
   "source": [
    "if ani_marks >= 250:\n",
    "    print(\"You got the distiction.\")\n",
    "elif ani_marks >= 150 and ani_marks < 250:\n",
    "    print(\"You got the First Division.\")\n",
    "elif ani_marks >= 100 and ani_marks < 150:\n",
    "    print(\"You got the Second Division\")\n",
    "elif ani_marks >= 80:\n",
    "    print(\"You just passed.\")\n",
    "else:\n",
    "    print(\"You failed!\")"
   ]
  },
  {
   "cell_type": "code",
   "execution_count": 42,
   "id": "b1e35f63",
   "metadata": {},
   "outputs": [
    {
     "data": {
      "text/plain": [
       "'ankitkumarshukla'"
      ]
     },
     "execution_count": 42,
     "metadata": {},
     "output_type": "execute_result"
    }
   ],
   "source": [
    "stud_marks(\"ankit\",\"kumar\",\"shukla\")"
   ]
  },
  {
   "cell_type": "code",
   "execution_count": 43,
   "id": "909a2fe6",
   "metadata": {},
   "outputs": [
    {
     "ename": "TypeError",
     "evalue": "unsupported operand type(s) for +: 'int' and 'str'",
     "output_type": "error",
     "traceback": [
      "\u001b[1;31m---------------------------------------------------------------------------\u001b[0m",
      "\u001b[1;31mTypeError\u001b[0m                                 Traceback (most recent call last)",
      "\u001b[1;32m<ipython-input-43-34058b056ca7>\u001b[0m in \u001b[0;36m<module>\u001b[1;34m\u001b[0m\n\u001b[1;32m----> 1\u001b[1;33m \u001b[0mstud_marks\u001b[0m\u001b[1;33m(\u001b[0m\u001b[1;36m50\u001b[0m\u001b[1;33m,\u001b[0m\u001b[1;34m\"Aniket\"\u001b[0m\u001b[1;33m,\u001b[0m\u001b[1;34m\"Shukla\"\u001b[0m\u001b[1;33m)\u001b[0m\u001b[1;33m\u001b[0m\u001b[1;33m\u001b[0m\u001b[0m\n\u001b[0m",
      "\u001b[1;32m<ipython-input-30-49ccb969b2bb>\u001b[0m in \u001b[0;36mstud_marks\u001b[1;34m(m, s, c)\u001b[0m\n\u001b[0;32m      1\u001b[0m \u001b[1;32mdef\u001b[0m \u001b[0mstud_marks\u001b[0m\u001b[1;33m(\u001b[0m\u001b[0mm\u001b[0m\u001b[1;33m,\u001b[0m\u001b[0ms\u001b[0m\u001b[1;33m,\u001b[0m\u001b[0mc\u001b[0m\u001b[1;33m)\u001b[0m\u001b[1;33m:\u001b[0m\u001b[1;33m\u001b[0m\u001b[1;33m\u001b[0m\u001b[0m\n\u001b[1;32m----> 2\u001b[1;33m     \u001b[1;32mreturn\u001b[0m \u001b[0mm\u001b[0m\u001b[1;33m+\u001b[0m\u001b[0ms\u001b[0m\u001b[1;33m+\u001b[0m\u001b[0mc\u001b[0m\u001b[1;33m\u001b[0m\u001b[1;33m\u001b[0m\u001b[0m\n\u001b[0m",
      "\u001b[1;31mTypeError\u001b[0m: unsupported operand type(s) for +: 'int' and 'str'"
     ]
    }
   ],
   "source": [
    "stud_marks(50,\"Aniket\",\"Shukla\")"
   ]
  },
  {
   "cell_type": "code",
   "execution_count": 44,
   "id": "00c91b0b",
   "metadata": {},
   "outputs": [
    {
     "data": {
      "text/plain": [
       "'40AniketShukla'"
      ]
     },
     "execution_count": 44,
     "metadata": {},
     "output_type": "execute_result"
    }
   ],
   "source": [
    "stud_marks(str(40),\"Aniket\",\"Shukla\")"
   ]
  },
  {
   "cell_type": "markdown",
   "id": "f66e127d",
   "metadata": {},
   "source": [
    "Program to check whether the number is even or not"
   ]
  },
  {
   "cell_type": "code",
   "execution_count": 57,
   "id": "dd616a5d",
   "metadata": {},
   "outputs": [],
   "source": [
    "def even_num(num):\n",
    "    if num == 0:\n",
    "        print(\"0 is exceptional.\")\n",
    "    elif num % 2 == 0:\n",
    "        print(\"Number is even - \" ,num, \"\\nSquare of \",num,\"is\",num**2)\n",
    "        \n",
    "    else:\n",
    "        print(\"Number is odd.\")"
   ]
  },
  {
   "cell_type": "code",
   "execution_count": 59,
   "id": "1296c052",
   "metadata": {},
   "outputs": [
    {
     "name": "stdout",
     "output_type": "stream",
     "text": [
      "Number is even -  56 \n",
      "Square of  56 is 3136\n"
     ]
    }
   ],
   "source": [
    "even_num(56)"
   ]
  },
  {
   "cell_type": "code",
   "execution_count": 60,
   "id": "1293f490",
   "metadata": {},
   "outputs": [
    {
     "name": "stdout",
     "output_type": "stream",
     "text": [
      "0 is exceptional.\n"
     ]
    }
   ],
   "source": [
    "even_num(0)"
   ]
  },
  {
   "cell_type": "code",
   "execution_count": 61,
   "id": "eef7498e",
   "metadata": {},
   "outputs": [
    {
     "name": "stdout",
     "output_type": "stream",
     "text": [
      "Number is odd.\n"
     ]
    }
   ],
   "source": [
    "even_num(7)"
   ]
  },
  {
   "cell_type": "code",
   "execution_count": 81,
   "id": "9b7b2b4c",
   "metadata": {},
   "outputs": [],
   "source": [
    "def even_check(num):\n",
    "    for i in range(2,num):\n",
    "        \n",
    "        if i % 2 == 0:\n",
    "            print(\"Number is even - \" ,i, \"\\nSquare of \",i,\"is\",i**2)\n",
    "        \n",
    "        else:\n",
    "            print(\"Number is odd - \",i)"
   ]
  },
  {
   "cell_type": "code",
   "execution_count": 82,
   "id": "a5fa9856",
   "metadata": {},
   "outputs": [
    {
     "name": "stdout",
     "output_type": "stream",
     "text": [
      "Number is even -  2 \n",
      "Square of  2 is 4\n",
      "Number is odd -  3\n",
      "Number is even -  4 \n",
      "Square of  4 is 16\n",
      "Number is odd -  5\n"
     ]
    }
   ],
   "source": [
    "even_check(6)"
   ]
  },
  {
   "cell_type": "code",
   "execution_count": 83,
   "id": "85e08b0d",
   "metadata": {},
   "outputs": [],
   "source": [
    "even_check(0)"
   ]
  },
  {
   "cell_type": "code",
   "execution_count": 84,
   "id": "bee8d60c",
   "metadata": {},
   "outputs": [
    {
     "name": "stdout",
     "output_type": "stream",
     "text": [
      "Number is even -  2 \n",
      "Square of  2 is 4\n",
      "Number is odd -  3\n"
     ]
    }
   ],
   "source": [
    "even_check(4)"
   ]
  },
  {
   "cell_type": "code",
   "execution_count": 85,
   "id": "12f9959b",
   "metadata": {},
   "outputs": [
    {
     "data": {
      "text/plain": [
       "2.5"
      ]
     },
     "execution_count": 85,
     "metadata": {},
     "output_type": "execute_result"
    }
   ],
   "source": [
    "5/2"
   ]
  },
  {
   "cell_type": "code",
   "execution_count": 86,
   "id": "531296f5",
   "metadata": {},
   "outputs": [
    {
     "data": {
      "text/plain": [
       "2"
      ]
     },
     "execution_count": 86,
     "metadata": {},
     "output_type": "execute_result"
    }
   ],
   "source": [
    "5//2"
   ]
  },
  {
   "cell_type": "code",
   "execution_count": 87,
   "id": "e57f0681",
   "metadata": {},
   "outputs": [
    {
     "data": {
      "text/plain": [
       "1"
      ]
     },
     "execution_count": 87,
     "metadata": {},
     "output_type": "execute_result"
    }
   ],
   "source": [
    "5%2"
   ]
  },
  {
   "cell_type": "code",
   "execution_count": 88,
   "id": "68ab6ee2",
   "metadata": {},
   "outputs": [
    {
     "data": {
      "text/plain": [
       "0"
      ]
     },
     "execution_count": 88,
     "metadata": {},
     "output_type": "execute_result"
    }
   ],
   "source": [
    "4%2"
   ]
  },
  {
   "cell_type": "markdown",
   "id": "914095cb",
   "metadata": {},
   "source": [
    "## LAMBDA FUNCTION"
   ]
  },
  {
   "cell_type": "code",
   "execution_count": 89,
   "id": "f8bc4e87",
   "metadata": {},
   "outputs": [
    {
     "data": {
      "text/plain": [
       "<function __main__.<lambda>(argument)>"
      ]
     },
     "execution_count": 89,
     "metadata": {},
     "output_type": "execute_result"
    }
   ],
   "source": [
    "lambda argument : expression"
   ]
  },
  {
   "cell_type": "code",
   "execution_count": 91,
   "id": "afcf30d4",
   "metadata": {},
   "outputs": [],
   "source": [
    "add_num = lambda x : x+2"
   ]
  },
  {
   "cell_type": "code",
   "execution_count": 92,
   "id": "4faa71b0",
   "metadata": {},
   "outputs": [
    {
     "ename": "TypeError",
     "evalue": "<lambda>() missing 1 required positional argument: 'x'",
     "output_type": "error",
     "traceback": [
      "\u001b[1;31m---------------------------------------------------------------------------\u001b[0m",
      "\u001b[1;31mTypeError\u001b[0m                                 Traceback (most recent call last)",
      "\u001b[1;32m<ipython-input-92-e9d93e46b902>\u001b[0m in \u001b[0;36m<module>\u001b[1;34m\u001b[0m\n\u001b[1;32m----> 1\u001b[1;33m \u001b[0madd_num\u001b[0m\u001b[1;33m(\u001b[0m\u001b[1;33m)\u001b[0m\u001b[1;33m\u001b[0m\u001b[1;33m\u001b[0m\u001b[0m\n\u001b[0m",
      "\u001b[1;31mTypeError\u001b[0m: <lambda>() missing 1 required positional argument: 'x'"
     ]
    }
   ],
   "source": [
    "add_num()"
   ]
  },
  {
   "cell_type": "code",
   "execution_count": 93,
   "id": "dd9f7fab",
   "metadata": {},
   "outputs": [
    {
     "data": {
      "text/plain": [
       "7"
      ]
     },
     "execution_count": 93,
     "metadata": {},
     "output_type": "execute_result"
    }
   ],
   "source": [
    "add_num(5)"
   ]
  },
  {
   "cell_type": "code",
   "execution_count": 94,
   "id": "0d33b94f",
   "metadata": {},
   "outputs": [],
   "source": [
    "mult = lambda x,y : x*y"
   ]
  },
  {
   "cell_type": "code",
   "execution_count": 95,
   "id": "3ca21800",
   "metadata": {},
   "outputs": [
    {
     "data": {
      "text/plain": [
       "8"
      ]
     },
     "execution_count": 95,
     "metadata": {},
     "output_type": "execute_result"
    }
   ],
   "source": [
    "mult(4,2)"
   ]
  },
  {
   "cell_type": "markdown",
   "id": "28e82d07",
   "metadata": {},
   "source": [
    "## * ARG"
   ]
  },
  {
   "cell_type": "markdown",
   "id": "2f725d55",
   "metadata": {},
   "source": [
    "*arg takes multiple inputs."
   ]
  },
  {
   "cell_type": "code",
   "execution_count": 97,
   "id": "1a8f44d7",
   "metadata": {},
   "outputs": [],
   "source": [
    "def mul_inp(*args):\n",
    "    for i in args:\n",
    "        print(\"mul_inp - \", i)"
   ]
  },
  {
   "cell_type": "code",
   "execution_count": 98,
   "id": "3c52b7eb",
   "metadata": {},
   "outputs": [
    {
     "name": "stdout",
     "output_type": "stream",
     "text": [
      "mul_inp -  Riya\n",
      "mul_inp -  Rampy\n",
      "mul_inp -  500\n",
      "mul_inp -  45.12\n"
     ]
    }
   ],
   "source": [
    "mul_inp(\"Riya\",\"Rampy\",500,45.12)"
   ]
  },
  {
   "cell_type": "markdown",
   "id": "a9eb67fd",
   "metadata": {},
   "source": [
    "## ** KWARG"
   ]
  },
  {
   "cell_type": "markdown",
   "id": "a5087613",
   "metadata": {},
   "source": [
    "**kwarg takes key and value, just like dictionary"
   ]
  },
  {
   "cell_type": "code",
   "execution_count": 109,
   "id": "48a9bf3c",
   "metadata": {},
   "outputs": [],
   "source": [
    "def my_dict(**kwargs):\n",
    "    for i,j in kwargs.items():\n",
    "        print(\"My Dict- \", i,j)"
   ]
  },
  {
   "cell_type": "code",
   "execution_count": 111,
   "id": "610405b5",
   "metadata": {},
   "outputs": [
    {
     "name": "stdout",
     "output_type": "stream",
     "text": [
      "My Dict-  Name ['Aniket', 'Mansi', 'Himanshu', 'Ankit']\n",
      "My Dict-  Marks [78, 52, 10, 98]\n"
     ]
    }
   ],
   "source": [
    "my_dict(Name=[\"Aniket\",\"Mansi\",\"Himanshu\",\"Ankit\"], Marks = [78,52,10,98])"
   ]
  },
  {
   "cell_type": "markdown",
   "id": "19acc0fa",
   "metadata": {},
   "source": [
    "# MAP "
   ]
  },
  {
   "cell_type": "markdown",
   "id": "accc8d20",
   "metadata": {},
   "source": [
    "Map is a function that takes in two arguments(function,sequence)"
   ]
  },
  {
   "cell_type": "code",
   "execution_count": 1,
   "id": "764287e5",
   "metadata": {},
   "outputs": [],
   "source": [
    "def total_marks(marks):\n",
    "    if marks == 30:\n",
    "        return (marks+5)\n",
    "    elif marks == 31:\n",
    "        return (marks+4)\n",
    "    elif marks == 32:\n",
    "        return (marks+3)\n",
    "    elif marks == 33:\n",
    "        return (marks+2)\n",
    "    elif marks == 34:\n",
    "        return (marks+1)\n",
    "    else:\n",
    "        pass"
   ]
  },
  {
   "cell_type": "code",
   "execution_count": 2,
   "id": "c94c53b1",
   "metadata": {},
   "outputs": [],
   "source": [
    "score = [40,32,54,30,54,32,31,54,33,87,34,35,35]"
   ]
  },
  {
   "cell_type": "code",
   "execution_count": 4,
   "id": "439ac207",
   "metadata": {},
   "outputs": [],
   "source": [
    "total = list(map(total_marks,score))"
   ]
  },
  {
   "cell_type": "code",
   "execution_count": 5,
   "id": "214d5bbf",
   "metadata": {},
   "outputs": [
    {
     "data": {
      "text/plain": [
       "[None, 35, None, 35, None, 35, 35, None, 35, None, 35, None, None]"
      ]
     },
     "execution_count": 5,
     "metadata": {},
     "output_type": "execute_result"
    }
   ],
   "source": [
    "total"
   ]
  },
  {
   "cell_type": "code",
   "execution_count": 6,
   "id": "4eb5c2f6",
   "metadata": {},
   "outputs": [],
   "source": [
    "def total_marks(marks):\n",
    "    if marks == 30:\n",
    "        return (marks+5)\n",
    "    elif marks == 31:\n",
    "        return (marks+4)\n",
    "    elif marks == 32:\n",
    "        return (marks+3)\n",
    "    elif marks == 33:\n",
    "        return (marks+2)\n",
    "    elif marks == 34:\n",
    "        return (marks+1)\n",
    "    else:\n",
    "        return marks"
   ]
  },
  {
   "cell_type": "code",
   "execution_count": 7,
   "id": "5b64a275",
   "metadata": {},
   "outputs": [
    {
     "data": {
      "text/plain": [
       "[40, 35, 54, 35, 54, 35, 35, 54, 35, 87, 35, 35, 35]"
      ]
     },
     "execution_count": 7,
     "metadata": {},
     "output_type": "execute_result"
    }
   ],
   "source": [
    "total_new = list(map(total_marks,score))\n",
    "total_new"
   ]
  },
  {
   "cell_type": "markdown",
   "id": "3c806dfd",
   "metadata": {},
   "source": [
    "# FILTER"
   ]
  },
  {
   "cell_type": "markdown",
   "id": "1563740e",
   "metadata": {},
   "source": [
    "Filter is used to filter out iterable, it gives result in Boolean(True,False)"
   ]
  },
  {
   "cell_type": "code",
   "execution_count": 14,
   "id": "1c45e452",
   "metadata": {},
   "outputs": [],
   "source": [
    "def even_check(num):\n",
    "    if num%2 == 0:\n",
    "        if num == 0:\n",
    "            print(\"Zero is exceptional\")\n",
    "        return True"
   ]
  },
  {
   "cell_type": "code",
   "execution_count": 15,
   "id": "3970fdaa",
   "metadata": {},
   "outputs": [],
   "source": [
    "seq = [10,20,3,32,21,43,45,65,76,87,98,0,21]"
   ]
  },
  {
   "cell_type": "code",
   "execution_count": 16,
   "id": "95a44f61",
   "metadata": {},
   "outputs": [
    {
     "name": "stdout",
     "output_type": "stream",
     "text": [
      "Zero is exceptional\n"
     ]
    },
    {
     "data": {
      "text/plain": [
       "[10, 20, 32, 76, 98, 0]"
      ]
     },
     "execution_count": 16,
     "metadata": {},
     "output_type": "execute_result"
    }
   ],
   "source": [
    "fil = list(filter(even_check, seq))\n",
    "fil"
   ]
  },
  {
   "cell_type": "code",
   "execution_count": 17,
   "id": "cb493d83",
   "metadata": {},
   "outputs": [
    {
     "data": {
      "text/plain": [
       "[10, 20, 32, 76, 98, 0]"
      ]
     },
     "execution_count": 17,
     "metadata": {},
     "output_type": "execute_result"
    }
   ],
   "source": [
    "list(filter(lambda x: x%2==0,seq))"
   ]
  },
  {
   "cell_type": "code",
   "execution_count": 19,
   "id": "889623c7",
   "metadata": {},
   "outputs": [],
   "source": [
    "score = [10,35,32,45,67,21,32,43,22,33,44,55]"
   ]
  },
  {
   "cell_type": "code",
   "execution_count": 22,
   "id": "997d0152",
   "metadata": {},
   "outputs": [
    {
     "data": {
      "text/plain": [
       "[10, 32, 21, 32, 22, 33]"
      ]
     },
     "execution_count": 22,
     "metadata": {},
     "output_type": "execute_result"
    }
   ],
   "source": [
    "failed = list(filter(lambda marks: marks < 35,score))\n",
    "failed"
   ]
  },
  {
   "cell_type": "code",
   "execution_count": 23,
   "id": "0c3709a8",
   "metadata": {},
   "outputs": [],
   "source": [
    "def fail(marks):\n",
    "    if marks < 35:\n",
    "        return True"
   ]
  },
  {
   "cell_type": "code",
   "execution_count": 24,
   "id": "f991b150",
   "metadata": {},
   "outputs": [],
   "source": [
    "marks = [10,35,32,45,67,21,32,43,22,33,44,55]"
   ]
  },
  {
   "cell_type": "code",
   "execution_count": 25,
   "id": "791b2f78",
   "metadata": {},
   "outputs": [
    {
     "data": {
      "text/plain": [
       "[10, 32, 21, 32, 22, 33]"
      ]
     },
     "execution_count": 25,
     "metadata": {},
     "output_type": "execute_result"
    }
   ],
   "source": [
    "failed_stud = list(filter(fail,marks))\n",
    "\n",
    "failed_stud"
   ]
  },
  {
   "cell_type": "markdown",
   "id": "b4fdfee5",
   "metadata": {},
   "source": [
    "# Global and Local Variable"
   ]
  },
  {
   "cell_type": "markdown",
   "id": "bb41fb23",
   "metadata": {},
   "source": [
    "Global - Variable defined outside the function"
   ]
  },
  {
   "cell_type": "code",
   "execution_count": 27,
   "id": "0af20e18",
   "metadata": {},
   "outputs": [
    {
     "name": "stdout",
     "output_type": "stream",
     "text": [
      "Printing inside the function and total is  45\n"
     ]
    }
   ],
   "source": [
    "extra_marks = 10\n",
    "\n",
    "def total_score_global():\n",
    "    print(\"Printing inside the function and total is \",35+extra_marks)\n",
    "\n",
    "total_score_global()"
   ]
  },
  {
   "cell_type": "code",
   "execution_count": 28,
   "id": "c7c83a59",
   "metadata": {},
   "outputs": [
    {
     "name": "stdout",
     "output_type": "stream",
     "text": [
      "Printing outside the function and total is  45\n"
     ]
    }
   ],
   "source": [
    "print(\"Printing outside the function and total is \", 35+extra_marks)"
   ]
  },
  {
   "cell_type": "markdown",
   "id": "f9f07912",
   "metadata": {},
   "source": [
    "Local Variable - Variable defined inside the function. This can only be used inside the function."
   ]
  },
  {
   "cell_type": "code",
   "execution_count": 29,
   "id": "1f91a50a",
   "metadata": {},
   "outputs": [
    {
     "name": "stdout",
     "output_type": "stream",
     "text": [
      "Printing inside the function and total is  60\n"
     ]
    }
   ],
   "source": [
    "def total_score_local():\n",
    "    some_marks = 10\n",
    "    print(\"Printing inside the function and total is \",50+some_marks)\n",
    "    \n",
    "total_score_local()"
   ]
  },
  {
   "cell_type": "code",
   "execution_count": 30,
   "id": "8204164c",
   "metadata": {},
   "outputs": [
    {
     "ename": "NameError",
     "evalue": "name 'some_marks' is not defined",
     "output_type": "error",
     "traceback": [
      "\u001b[1;31m---------------------------------------------------------------------------\u001b[0m",
      "\u001b[1;31mNameError\u001b[0m                                 Traceback (most recent call last)",
      "\u001b[1;32m<ipython-input-30-e89154800e1e>\u001b[0m in \u001b[0;36m<module>\u001b[1;34m\u001b[0m\n\u001b[1;32m----> 1\u001b[1;33m \u001b[0mprint\u001b[0m\u001b[1;33m(\u001b[0m\u001b[1;34m\"Printing outisde the function and total is \"\u001b[0m\u001b[1;33m,\u001b[0m\u001b[1;36m50\u001b[0m\u001b[1;33m+\u001b[0m\u001b[0msome_marks\u001b[0m\u001b[1;33m)\u001b[0m\u001b[1;33m\u001b[0m\u001b[1;33m\u001b[0m\u001b[0m\n\u001b[0m",
      "\u001b[1;31mNameError\u001b[0m: name 'some_marks' is not defined"
     ]
    }
   ],
   "source": [
    "print(\"Printing outisde the function and total is \",50+some_marks)"
   ]
  },
  {
   "cell_type": "markdown",
   "id": "d0eef95d",
   "metadata": {},
   "source": [
    "Using Local variable outside the function"
   ]
  },
  {
   "cell_type": "code",
   "execution_count": 32,
   "id": "370cb4fe",
   "metadata": {},
   "outputs": [
    {
     "name": "stdout",
     "output_type": "stream",
     "text": [
      "Printing inside the function and total is  60\n"
     ]
    }
   ],
   "source": [
    "def total_score_local():\n",
    "    global some_marks\n",
    "    some_marks = 10\n",
    "    print(\"Printing inside the function and total is \",50+some_marks)\n",
    "    \n",
    "total_score_local()"
   ]
  },
  {
   "cell_type": "code",
   "execution_count": 33,
   "id": "9450b022",
   "metadata": {},
   "outputs": [
    {
     "name": "stdout",
     "output_type": "stream",
     "text": [
      "Printing outisde the function and total is  60\n"
     ]
    }
   ],
   "source": [
    "print(\"Printing outisde the function and total is \",50+some_marks)"
   ]
  },
  {
   "cell_type": "code",
   "execution_count": 35,
   "id": "63a4aaae",
   "metadata": {},
   "outputs": [
    {
     "name": "stdout",
     "output_type": "stream",
     "text": [
      "This is unique!\n"
     ]
    }
   ],
   "source": [
    "def local_global():\n",
    "    global var1\n",
    "    var1 = \"This is unique!\"\n",
    "    print(var1)\n",
    "    \n",
    "local_global()"
   ]
  },
  {
   "cell_type": "code",
   "execution_count": 36,
   "id": "a6a924f1",
   "metadata": {},
   "outputs": [
    {
     "name": "stdout",
     "output_type": "stream",
     "text": [
      "Trying using outside the function -  This is unique!\n"
     ]
    }
   ],
   "source": [
    "print(\"Trying using outside the function - \",var1)"
   ]
  },
  {
   "cell_type": "markdown",
   "id": "056302ba",
   "metadata": {},
   "source": [
    "# Modules and Packages"
   ]
  },
  {
   "cell_type": "code",
   "execution_count": 37,
   "id": "58369f03",
   "metadata": {},
   "outputs": [],
   "source": [
    "import math"
   ]
  },
  {
   "cell_type": "code",
   "execution_count": 38,
   "id": "f1e6927c",
   "metadata": {},
   "outputs": [
    {
     "name": "stdout",
     "output_type": "stream",
     "text": [
      "['__doc__', '__loader__', '__name__', '__package__', '__spec__', 'acos', 'acosh', 'asin', 'asinh', 'atan', 'atan2', 'atanh', 'ceil', 'comb', 'copysign', 'cos', 'cosh', 'degrees', 'dist', 'e', 'erf', 'erfc', 'exp', 'expm1', 'fabs', 'factorial', 'floor', 'fmod', 'frexp', 'fsum', 'gamma', 'gcd', 'hypot', 'inf', 'isclose', 'isfinite', 'isinf', 'isnan', 'isqrt', 'ldexp', 'lgamma', 'log', 'log10', 'log1p', 'log2', 'modf', 'nan', 'perm', 'pi', 'pow', 'prod', 'radians', 'remainder', 'sin', 'sinh', 'sqrt', 'tan', 'tanh', 'tau', 'trunc']\n"
     ]
    }
   ],
   "source": [
    "print(dir(math))"
   ]
  },
  {
   "cell_type": "code",
   "execution_count": 39,
   "id": "79d4b6ed",
   "metadata": {},
   "outputs": [
    {
     "data": {
      "text/plain": [
       "10.0"
      ]
     },
     "execution_count": 39,
     "metadata": {},
     "output_type": "execute_result"
    }
   ],
   "source": [
    "math.sqrt(100)"
   ]
  },
  {
   "cell_type": "code",
   "execution_count": 41,
   "id": "db3d4753",
   "metadata": {},
   "outputs": [
    {
     "data": {
      "text/plain": [
       "16.0"
      ]
     },
     "execution_count": 41,
     "metadata": {},
     "output_type": "execute_result"
    }
   ],
   "source": [
    "math.pow(4,2)"
   ]
  },
  {
   "cell_type": "code",
   "execution_count": 42,
   "id": "39d120db",
   "metadata": {},
   "outputs": [
    {
     "data": {
      "text/plain": [
       "1.7323937598229686"
      ]
     },
     "execution_count": 42,
     "metadata": {},
     "output_type": "execute_result"
    }
   ],
   "source": [
    "math.log10(54)"
   ]
  },
  {
   "cell_type": "code",
   "execution_count": 43,
   "id": "2a72ba97",
   "metadata": {},
   "outputs": [
    {
     "data": {
      "text/plain": [
       "-0.5587890488516163"
      ]
     },
     "execution_count": 43,
     "metadata": {},
     "output_type": "execute_result"
    }
   ],
   "source": [
    "math.sin(54)"
   ]
  },
  {
   "cell_type": "code",
   "execution_count": 44,
   "id": "26a86b20",
   "metadata": {},
   "outputs": [
    {
     "ename": "NameError",
     "evalue": "name 'sqrt' is not defined",
     "output_type": "error",
     "traceback": [
      "\u001b[1;31m---------------------------------------------------------------------------\u001b[0m",
      "\u001b[1;31mNameError\u001b[0m                                 Traceback (most recent call last)",
      "\u001b[1;32m<ipython-input-44-79301f9b64f1>\u001b[0m in \u001b[0;36m<module>\u001b[1;34m\u001b[0m\n\u001b[1;32m----> 1\u001b[1;33m \u001b[0msqrt\u001b[0m\u001b[1;33m(\u001b[0m\u001b[1;36m100\u001b[0m\u001b[1;33m)\u001b[0m\u001b[1;33m\u001b[0m\u001b[1;33m\u001b[0m\u001b[0m\n\u001b[0m",
      "\u001b[1;31mNameError\u001b[0m: name 'sqrt' is not defined"
     ]
    }
   ],
   "source": [
    "sqrt(100)"
   ]
  },
  {
   "cell_type": "code",
   "execution_count": 45,
   "id": "43e479d6",
   "metadata": {},
   "outputs": [],
   "source": [
    "from math import sqrt"
   ]
  },
  {
   "cell_type": "code",
   "execution_count": 46,
   "id": "c9b3e2a6",
   "metadata": {},
   "outputs": [
    {
     "data": {
      "text/plain": [
       "10.0"
      ]
     },
     "execution_count": 46,
     "metadata": {},
     "output_type": "execute_result"
    }
   ],
   "source": [
    "sqrt(100)"
   ]
  },
  {
   "cell_type": "code",
   "execution_count": 47,
   "id": "dd81c1b3",
   "metadata": {},
   "outputs": [],
   "source": [
    "from math import log10"
   ]
  },
  {
   "cell_type": "code",
   "execution_count": 48,
   "id": "83e3143e",
   "metadata": {},
   "outputs": [
    {
     "data": {
      "text/plain": [
       "1.4771212547196624"
      ]
     },
     "execution_count": 48,
     "metadata": {},
     "output_type": "execute_result"
    }
   ],
   "source": [
    "log10(30)"
   ]
  },
  {
   "cell_type": "code",
   "execution_count": 49,
   "id": "041de234",
   "metadata": {},
   "outputs": [],
   "source": [
    "import numpy"
   ]
  },
  {
   "cell_type": "code",
   "execution_count": 51,
   "id": "530d030e",
   "metadata": {},
   "outputs": [
    {
     "name": "stdout",
     "output_type": "stream",
     "text": [
      "['ALLOW_THREADS', 'AxisError', 'BUFSIZE', 'Bytes0', 'CLIP', 'ComplexWarning', 'DataSource', 'Datetime64', 'ERR_CALL', 'ERR_DEFAULT', 'ERR_IGNORE', 'ERR_LOG', 'ERR_PRINT', 'ERR_RAISE', 'ERR_WARN', 'FLOATING_POINT_SUPPORT', 'FPE_DIVIDEBYZERO', 'FPE_INVALID', 'FPE_OVERFLOW', 'FPE_UNDERFLOW', 'False_', 'Inf', 'Infinity', 'MAXDIMS', 'MAY_SHARE_BOUNDS', 'MAY_SHARE_EXACT', 'MachAr', 'ModuleDeprecationWarning', 'NAN', 'NINF', 'NZERO', 'NaN', 'PINF', 'PZERO', 'RAISE', 'RankWarning', 'SHIFT_DIVIDEBYZERO', 'SHIFT_INVALID', 'SHIFT_OVERFLOW', 'SHIFT_UNDERFLOW', 'ScalarType', 'Str0', 'Tester', 'TooHardError', 'True_', 'UFUNC_BUFSIZE_DEFAULT', 'UFUNC_PYVALS_NAME', 'Uint64', 'VisibleDeprecationWarning', 'WRAP', '_NoValue', '_UFUNC_API', '__NUMPY_SETUP__', '__all__', '__builtins__', '__cached__', '__config__', '__deprecated_attrs__', '__dir__', '__doc__', '__expired_functions__', '__file__', '__getattr__', '__git_revision__', '__loader__', '__mkl_version__', '__name__', '__package__', '__path__', '__spec__', '__version__', '_add_newdoc_ufunc', '_distributor_init', '_financial_names', '_globals', '_mat', '_pytesttester', 'abs', 'absolute', 'add', 'add_docstring', 'add_newdoc', 'add_newdoc_ufunc', 'alen', 'all', 'allclose', 'alltrue', 'amax', 'amin', 'angle', 'any', 'append', 'apply_along_axis', 'apply_over_axes', 'arange', 'arccos', 'arccosh', 'arcsin', 'arcsinh', 'arctan', 'arctan2', 'arctanh', 'argmax', 'argmin', 'argpartition', 'argsort', 'argwhere', 'around', 'array', 'array2string', 'array_equal', 'array_equiv', 'array_repr', 'array_split', 'array_str', 'asanyarray', 'asarray', 'asarray_chkfinite', 'ascontiguousarray', 'asfarray', 'asfortranarray', 'asmatrix', 'asscalar', 'atleast_1d', 'atleast_2d', 'atleast_3d', 'average', 'bartlett', 'base_repr', 'binary_repr', 'bincount', 'bitwise_and', 'bitwise_not', 'bitwise_or', 'bitwise_xor', 'blackman', 'block', 'bmat', 'bool8', 'bool_', 'broadcast', 'broadcast_arrays', 'broadcast_shapes', 'broadcast_to', 'busday_count', 'busday_offset', 'busdaycalendar', 'byte', 'byte_bounds', 'bytes0', 'bytes_', 'c_', 'can_cast', 'cast', 'cbrt', 'cdouble', 'ceil', 'cfloat', 'char', 'character', 'chararray', 'choose', 'clip', 'clongdouble', 'clongfloat', 'column_stack', 'common_type', 'compare_chararrays', 'compat', 'complex128', 'complex64', 'complex_', 'complexfloating', 'compress', 'concatenate', 'conj', 'conjugate', 'convolve', 'copy', 'copysign', 'copyto', 'core', 'corrcoef', 'correlate', 'cos', 'cosh', 'count_nonzero', 'cov', 'cross', 'csingle', 'ctypeslib', 'cumprod', 'cumproduct', 'cumsum', 'datetime64', 'datetime_as_string', 'datetime_data', 'deg2rad', 'degrees', 'delete', 'deprecate', 'deprecate_with_doc', 'diag', 'diag_indices', 'diag_indices_from', 'diagflat', 'diagonal', 'diff', 'digitize', 'disp', 'divide', 'divmod', 'dot', 'double', 'dsplit', 'dstack', 'dtype', 'e', 'ediff1d', 'einsum', 'einsum_path', 'emath', 'empty', 'empty_like', 'equal', 'errstate', 'euler_gamma', 'exp', 'exp2', 'expand_dims', 'expm1', 'extract', 'eye', 'fabs', 'fastCopyAndTranspose', 'fft', 'fill_diagonal', 'find_common_type', 'finfo', 'fix', 'flatiter', 'flatnonzero', 'flexible', 'flip', 'fliplr', 'flipud', 'float16', 'float32', 'float64', 'float_', 'float_power', 'floating', 'floor', 'floor_divide', 'fmax', 'fmin', 'fmod', 'format_float_positional', 'format_float_scientific', 'format_parser', 'frexp', 'frombuffer', 'fromfile', 'fromfunction', 'fromiter', 'frompyfunc', 'fromregex', 'fromstring', 'full', 'full_like', 'gcd', 'generic', 'genfromtxt', 'geomspace', 'get_array_wrap', 'get_include', 'get_printoptions', 'getbufsize', 'geterr', 'geterrcall', 'geterrobj', 'gradient', 'greater', 'greater_equal', 'half', 'hamming', 'hanning', 'heaviside', 'histogram', 'histogram2d', 'histogram_bin_edges', 'histogramdd', 'hsplit', 'hstack', 'hypot', 'i0', 'identity', 'iinfo', 'imag', 'in1d', 'index_exp', 'indices', 'inexact', 'inf', 'info', 'infty', 'inner', 'insert', 'int0', 'int16', 'int32', 'int64', 'int8', 'int_', 'intc', 'integer', 'interp', 'intersect1d', 'intp', 'invert', 'is_busday', 'isclose', 'iscomplex', 'iscomplexobj', 'isfinite', 'isfortran', 'isin', 'isinf', 'isnan', 'isnat', 'isneginf', 'isposinf', 'isreal', 'isrealobj', 'isscalar', 'issctype', 'issubclass_', 'issubdtype', 'issubsctype', 'iterable', 'ix_', 'kaiser', 'kron', 'lcm', 'ldexp', 'left_shift', 'less', 'less_equal', 'lexsort', 'lib', 'linalg', 'linspace', 'little_endian', 'load', 'loads', 'loadtxt', 'log', 'log10', 'log1p', 'log2', 'logaddexp', 'logaddexp2', 'logical_and', 'logical_not', 'logical_or', 'logical_xor', 'logspace', 'longcomplex', 'longdouble', 'longfloat', 'longlong', 'lookfor', 'ma', 'mafromtxt', 'mask_indices', 'mat', 'math', 'matmul', 'matrix', 'matrixlib', 'max', 'maximum', 'maximum_sctype', 'may_share_memory', 'mean', 'median', 'memmap', 'meshgrid', 'mgrid', 'min', 'min_scalar_type', 'minimum', 'mintypecode', 'mkl', 'mod', 'modf', 'moveaxis', 'msort', 'multiply', 'nan', 'nan_to_num', 'nanargmax', 'nanargmin', 'nancumprod', 'nancumsum', 'nanmax', 'nanmean', 'nanmedian', 'nanmin', 'nanpercentile', 'nanprod', 'nanquantile', 'nanstd', 'nansum', 'nanvar', 'nbytes', 'ndarray', 'ndenumerate', 'ndfromtxt', 'ndim', 'ndindex', 'nditer', 'negative', 'nested_iters', 'newaxis', 'nextafter', 'nonzero', 'not_equal', 'numarray', 'number', 'obj2sctype', 'object0', 'object_', 'ogrid', 'oldnumeric', 'ones', 'ones_like', 'os', 'outer', 'packbits', 'pad', 'partition', 'percentile', 'pi', 'piecewise', 'place', 'poly', 'poly1d', 'polyadd', 'polyder', 'polydiv', 'polyfit', 'polyint', 'polymul', 'polynomial', 'polysub', 'polyval', 'positive', 'power', 'printoptions', 'prod', 'product', 'promote_types', 'ptp', 'put', 'put_along_axis', 'putmask', 'quantile', 'r_', 'rad2deg', 'radians', 'random', 'ravel', 'ravel_multi_index', 'real', 'real_if_close', 'rec', 'recarray', 'recfromcsv', 'recfromtxt', 'reciprocal', 'record', 'remainder', 'repeat', 'require', 'reshape', 'resize', 'result_type', 'right_shift', 'rint', 'roll', 'rollaxis', 'roots', 'rot90', 'round', 'round_', 'row_stack', 's_', 'safe_eval', 'save', 'savetxt', 'savez', 'savez_compressed', 'sctype2char', 'sctypeDict', 'sctypes', 'searchsorted', 'select', 'set_numeric_ops', 'set_printoptions', 'set_string_function', 'setbufsize', 'setdiff1d', 'seterr', 'seterrcall', 'seterrobj', 'setxor1d', 'shape', 'shares_memory', 'short', 'show_config', 'sign', 'signbit', 'signedinteger', 'sin', 'sinc', 'single', 'singlecomplex', 'sinh', 'size', 'sometrue', 'sort', 'sort_complex', 'source', 'spacing', 'split', 'sqrt', 'square', 'squeeze', 'stack', 'std', 'str0', 'str_', 'string_', 'subtract', 'sum', 'swapaxes', 'sys', 'take', 'take_along_axis', 'tan', 'tanh', 'tensordot', 'test', 'testing', 'tile', 'timedelta64', 'trace', 'tracemalloc_domain', 'transpose', 'trapz', 'tri', 'tril', 'tril_indices', 'tril_indices_from', 'trim_zeros', 'triu', 'triu_indices', 'triu_indices_from', 'true_divide', 'trunc', 'typeDict', 'typecodes', 'typename', 'ubyte', 'ufunc', 'uint', 'uint0', 'uint16', 'uint32', 'uint64', 'uint8', 'uintc', 'uintp', 'ulonglong', 'unicode_', 'union1d', 'unique', 'unpackbits', 'unravel_index', 'unsignedinteger', 'unwrap', 'use_hugepage', 'ushort', 'vander', 'var', 'vdot', 'vectorize', 'version', 'void', 'void0', 'vsplit', 'vstack', 'warnings', 'where', 'who', 'zeros', 'zeros_like']\n"
     ]
    }
   ],
   "source": [
    "print(dir(numpy))"
   ]
  },
  {
   "cell_type": "code",
   "execution_count": 52,
   "id": "c7509089",
   "metadata": {},
   "outputs": [
    {
     "data": {
      "text/plain": [
       "608"
      ]
     },
     "execution_count": 52,
     "metadata": {},
     "output_type": "execute_result"
    }
   ],
   "source": [
    "len(dir(numpy))"
   ]
  },
  {
   "cell_type": "markdown",
   "id": "bfe6e47f",
   "metadata": {},
   "source": [
    "## Taking input from the user"
   ]
  },
  {
   "cell_type": "code",
   "execution_count": 55,
   "id": "676666d8",
   "metadata": {},
   "outputs": [
    {
     "name": "stdout",
     "output_type": "stream",
     "text": [
      "Please enter your name: Aniket\n",
      "User entered:  Aniket\n"
     ]
    }
   ],
   "source": [
    "name = input(\"Please enter your name: \")\n",
    "print(\"User entered: \", name)"
   ]
  },
  {
   "cell_type": "code",
   "execution_count": 58,
   "id": "4ec98a1a",
   "metadata": {},
   "outputs": [
    {
     "name": "stdout",
     "output_type": "stream",
     "text": [
      "Enter your mobile number: 4784646954\n",
      "User entered:  4784646954\n"
     ]
    }
   ],
   "source": [
    "# Program to read only integer\n",
    "\n",
    "num = int(input(\"Enter your mobile number: \"))\n",
    "\n",
    "print(\"User entered: \", num)"
   ]
  },
  {
   "cell_type": "code",
   "execution_count": 60,
   "id": "e31bad68",
   "metadata": {},
   "outputs": [
    {
     "name": "stdout",
     "output_type": "stream",
     "text": [
      "Please enter the name: Aniket\n",
      "Hello! Mr. Aniket . Welcome to the ALL and ALL app\n",
      "Please enter your year of birth: 1997\n",
      "Mr.  Aniket . Thanks for entering the year of birth. Your year of birth is  1997\n"
     ]
    }
   ],
   "source": [
    "name = input(\"Please enter the name: \")\n",
    "\n",
    "print(\"Hello! Mr.\",name,\". Welcome to the ALL and ALL app\")\n",
    "\n",
    "year = int(input(\"Please enter your year of birth: \"))\n",
    "\n",
    "print(\"Mr. \",name, \". Thanks for entering the year of birth. Your year of birth is \", year)"
   ]
  },
  {
   "cell_type": "code",
   "execution_count": 62,
   "id": "ac646c9b",
   "metadata": {},
   "outputs": [
    {
     "name": "stdout",
     "output_type": "stream",
     "text": [
      "Please enter your Maths marks - 88\n",
      "Please enter your Science marks - 75\n",
      "Your total marks are  163\n"
     ]
    }
   ],
   "source": [
    "maths = int(input(\"Please enter your Maths marks - \"))\n",
    "science = int(input(\"Please enter your Science marks - \"))\n",
    "\n",
    "total = maths+science\n",
    "\n",
    "print(\"Your total marks are \",total)"
   ]
  },
  {
   "cell_type": "code",
   "execution_count": 72,
   "id": "f89330b2",
   "metadata": {},
   "outputs": [
    {
     "name": "stdout",
     "output_type": "stream",
     "text": [
      "Please enter your name: 4545\n",
      "Enter your name in alphabets only.\n",
      "Please enter your name: 444\n",
      "Enter your name in alphabets only.\n",
      "Please enter your name: kadhkaj\n",
      "You Entered:  kadhkaj\n"
     ]
    }
   ],
   "source": [
    "def n():\n",
    "    \n",
    "    name = input(\"Please enter your name: \")\n",
    "\n",
    "    if name.isalpha():\n",
    "        print(\"You Entered: \",name)\n",
    "    \n",
    "    else:\n",
    "        print(\"Enter your name in alphabets only.\")\n",
    "        n()\n",
    "n()"
   ]
  },
  {
   "cell_type": "markdown",
   "id": "7dc68b47",
   "metadata": {},
   "source": [
    "# Errors and Exception Handling"
   ]
  },
  {
   "cell_type": "code",
   "execution_count": 73,
   "id": "62ed92b0",
   "metadata": {},
   "outputs": [],
   "source": [
    "marks_1 = 88\n",
    "\n",
    "subject = \"Data Science\"\n",
    "\n",
    "marks_2 = 45\n",
    "\n"
   ]
  },
  {
   "cell_type": "code",
   "execution_count": 76,
   "id": "a27a7a73",
   "metadata": {},
   "outputs": [
    {
     "name": "stdout",
     "output_type": "stream",
     "text": [
      "You're adding to string. Make sure both are integers\n"
     ]
    }
   ],
   "source": [
    "try:\n",
    "    total = marks_1 + subject\n",
    "    \n",
    "except:\n",
    "    print(\"You're adding to string. Make sure both are integers\")\n",
    "\n",
    "else:\n",
    "    print(\"Total marks = \",total)"
   ]
  },
  {
   "cell_type": "code",
   "execution_count": 77,
   "id": "190e379c",
   "metadata": {},
   "outputs": [
    {
     "name": "stdout",
     "output_type": "stream",
     "text": [
      "Total marks =  133\n"
     ]
    }
   ],
   "source": [
    "try:\n",
    "    total = marks_1 + marks_2\n",
    "    \n",
    "except:\n",
    "    print(\"You're adding to string. Make sure both are integers\")\n",
    "\n",
    "else:\n",
    "    print(\"Total marks = \",total)"
   ]
  },
  {
   "cell_type": "code",
   "execution_count": 90,
   "id": "d4627dcb",
   "metadata": {},
   "outputs": [
    {
     "name": "stdout",
     "output_type": "stream",
     "text": [
      "Your Car Number:  \n",
      "Name:  \n",
      "Mobile Number:  \n",
      "\n",
      "The registration number is required. \n",
      "\n",
      "The name is required. \n",
      "\n",
      "The mobile number is required.\n"
     ]
    }
   ],
   "source": [
    "try:\n",
    "    car_number = input(\"Your Car Number: \")\n",
    "    name = input(\"Name: \")\n",
    "    mobile = input(\"Mobile Number: \")\n",
    "    \n",
    "    if car_number == \" \":\n",
    "        raise Exception()\n",
    "    elif name == \" \":\n",
    "        raise Exception()\n",
    "    elif mobile == \" \":\n",
    "        raise Exception()\n",
    "    else:\n",
    "        pass\n",
    "    \n",
    "except:\n",
    "    if car_number == \" \":\n",
    "        print(\"\\nThe registration number is required. \\n\")\n",
    "    if name == \" \":\n",
    "        print(\"The name is required. \\n\")\n",
    "    if mobile == \" \":\n",
    "        print(\"The mobile number is required.\")\n",
    "\n",
    "else:\n",
    "    print(\"Thanks for all the details.\")"
   ]
  },
  {
   "cell_type": "markdown",
   "id": "d42b00e2",
   "metadata": {},
   "source": [
    "Finally - This will be executed in any case"
   ]
  },
  {
   "cell_type": "code",
   "execution_count": 97,
   "id": "d136a1ef",
   "metadata": {},
   "outputs": [
    {
     "name": "stdout",
     "output_type": "stream",
     "text": [
      "Enter the mobile number: dfgfdhg\n",
      "Mobile number does not contain alphabets or alphanumeric. Kindly enter it again: \n",
      "Enter the mobile number: gfdsgegr5\n",
      "Mobile number does not contain alphabets or alphanumeric. Kindly enter it again: \n",
      "Enter the mobile number: 784\n",
      "Kindly enter 10 digits.\n",
      "Enter the mobile number: 79879798\n",
      "Kindly enter 10 digits.\n",
      "Enter the mobile number: 848947984989898897\n",
      "Kindly enter 10 digits.\n",
      "Enter the mobile number: 7843901664\n",
      "Your entered mobile number is:  7843901664\n"
     ]
    }
   ],
   "source": [
    "def mob_num():\n",
    "    mob = input(\"Enter the mobile number: \")\n",
    "    \n",
    "    if mob.isnumeric():\n",
    "        if len(mob) == 10:\n",
    "            print(\"Your entered mobile number is: \",mob)\n",
    "        else:\n",
    "            print(\"Kindly enter 10 digits.\")\n",
    "            mob_num()\n",
    "    else:\n",
    "        print(\"Mobile number does not contain alphabets or alphanumeric. Kindly enter it again: \")\n",
    "        \n",
    "        mob_num()\n",
    "\n",
    "mob_num()"
   ]
  },
  {
   "cell_type": "code",
   "execution_count": 99,
   "id": "5049b83f",
   "metadata": {},
   "outputs": [
    {
     "name": "stdout",
     "output_type": "stream",
     "text": [
      "Enter the mobile number: hcgchyhgc\n",
      "Looks like you did not enter the mobile number.\n",
      "Enter the mobile number: gfvff\n",
      "Looks like you did not enter the mobile number.\n",
      "Enter the mobile number: dfgjsdg3432432\n",
      "Looks like you did not enter the mobile number.\n",
      "Enter the mobile number: 4754654\n",
      "Mobile number must have 10 digits.\n",
      "Enter the mobile number: 79+797+987987987987987\n",
      "Looks like you did not enter the mobile number.\n",
      "Enter the mobile number: 7843901664\n",
      "Thank you for entering the mobile number.\n"
     ]
    }
   ],
   "source": [
    "def mob_number():\n",
    "    \n",
    "    while True:\n",
    "        try:\n",
    "            val = int(input(\"Enter the mobile number: \"))\n",
    "            \n",
    "        except:\n",
    "            print(\"Looks like you did not enter the mobile number.\")\n",
    "            continue\n",
    "            \n",
    "        else:\n",
    "            if len(str(val)) != 10:\n",
    "                print(\"Mobile number must have 10 digits.\")\n",
    "                continue\n",
    "                \n",
    "                \n",
    "            print(\"Thank you for entering the mobile number.\")\n",
    "            break\n",
    "                \n",
    "mob_number()            "
   ]
  },
  {
   "cell_type": "markdown",
   "id": "f1858fc3",
   "metadata": {},
   "source": [
    "# Object Oriented Programming"
   ]
  },
  {
   "cell_type": "markdown",
   "id": "a809beb4",
   "metadata": {},
   "source": [
    "- Class\n",
    "- Instances\n",
    "- Methods\n",
    "- Objects"
   ]
  },
  {
   "cell_type": "markdown",
   "id": "382784fc",
   "metadata": {},
   "source": [
    "### Creating Class"
   ]
  },
  {
   "cell_type": "markdown",
   "id": "9d8731a3",
   "metadata": {},
   "source": [
    "class name should always start with uppercase. For ex -\n",
    "class Person"
   ]
  },
  {
   "cell_type": "code",
   "execution_count": 100,
   "id": "ef1f5edb",
   "metadata": {},
   "outputs": [],
   "source": [
    "class Person:\n",
    "    pass"
   ]
  },
  {
   "cell_type": "markdown",
   "id": "1bf8efd9",
   "metadata": {},
   "source": [
    " __init__ is a special method for initialization"
   ]
  },
  {
   "cell_type": "code",
   "execution_count": 101,
   "id": "df439191",
   "metadata": {},
   "outputs": [],
   "source": [
    "class Person():\n",
    "    def __init__(self,name,surname,year_of_birth):\n",
    "        self.name = name\n",
    "        self.surname = surname\n",
    "        self.year_of_birth = year_of_birth"
   ]
  },
  {
   "cell_type": "markdown",
   "id": "554b26d8",
   "metadata": {},
   "source": [
    "Method - Functions described under the class is known as Method"
   ]
  },
  {
   "cell_type": "code",
   "execution_count": 3,
   "id": "766925d1",
   "metadata": {},
   "outputs": [],
   "source": [
    "from datetime import datetime"
   ]
  },
  {
   "cell_type": "code",
   "execution_count": 17,
   "id": "c24ee5b9",
   "metadata": {},
   "outputs": [],
   "source": [
    "class Employee():\n",
    "    def __init__(self,name,date_of_joining,salary,phone_number,gender,email,location,date_of_birth):\n",
    "        self.name = name\n",
    "        self.date_of_joining = datetime.strptime(date_of_joining, \"%b %d %Y\")\n",
    "        self.salary = salary\n",
    "        self.phone_number = phone_number\n",
    "        self.gender = gender\n",
    "        self.email = email\n",
    "        self.location = location\n",
    "        self.date_of_birth = datetime.strptime(date_of_birth, \"%b %d %Y\")\n",
    "        \n",
    "        \n",
    "    def emp_personal_info(self):\n",
    "        print(\"Name: \" , self.name , \"\\nDate Of Birth: \", self.date_of_birth , \"\\nPhone Number: \" , self.phone_number , \"\\nGender: \" \n",
    "             , self.gender)\n",
    "        \n",
    "    def salary_hike(self):\n",
    "        if self.salary < 8000:\n",
    "            print(\"Your New Salary : \" , (self.salary + (self.salary*0.3)))\n",
    "            \n",
    "        elif self.salary > 8000:\n",
    "            print(\"Your New Salary : \" , (self.salary + (self.salary*0.15)))\n",
    "        \n",
    "        "
   ]
  },
  {
   "cell_type": "code",
   "execution_count": 18,
   "id": "456fa1b3",
   "metadata": {},
   "outputs": [],
   "source": [
    "emp = Employee(\"Aniket\",\"Jul 09 2020\", 7500, 7843901664,\"M\",\"aniketshukla2018@gmail.com\",\"Kanpur\",\"Mar 28 1997\")"
   ]
  },
  {
   "cell_type": "code",
   "execution_count": 19,
   "id": "4a898f26",
   "metadata": {},
   "outputs": [
    {
     "name": "stdout",
     "output_type": "stream",
     "text": [
      "Name:  Aniket \n",
      "Date Of Birth:  1997-03-28 00:00:00 \n",
      "Phone Number:  7843901664 \n",
      "Gender:  M\n"
     ]
    }
   ],
   "source": [
    "emp.emp_personal_info()"
   ]
  },
  {
   "cell_type": "code",
   "execution_count": 20,
   "id": "a632ee3c",
   "metadata": {},
   "outputs": [
    {
     "name": "stdout",
     "output_type": "stream",
     "text": [
      "Your New Salary :  9750.0\n"
     ]
    }
   ],
   "source": [
    "emp.salary_hike()"
   ]
  },
  {
   "cell_type": "markdown",
   "id": "e5013eb0",
   "metadata": {},
   "source": [
    "## INHERITANCE"
   ]
  },
  {
   "cell_type": "code",
   "execution_count": 21,
   "id": "048d6626",
   "metadata": {},
   "outputs": [],
   "source": [
    "class Employee_ID(Employee):\n",
    "    \n",
    "    def __init__(self,emp_id, *args):\n",
    "        super(Employee_ID,self).__init__(*args)\n",
    "        self.emp_id = emp_id\n",
    "        \n",
    "    def emp_detail(self):\n",
    "        print(\"Employee ID is: \",self.emp_id,\"\\nEmployee name is \",self.name)"
   ]
  },
  {
   "cell_type": "code",
   "execution_count": 22,
   "id": "7430216f",
   "metadata": {},
   "outputs": [],
   "source": [
    "emp_det = Employee_ID(16147935,\"Aniket\",\"Jul 09 2020\", 7500, 7843901664,\"M\",\"aniketshukla2018@gmail.com\",\"Kanpur\",\"Mar 28 1997\")"
   ]
  },
  {
   "cell_type": "code",
   "execution_count": 28,
   "id": "82001225",
   "metadata": {},
   "outputs": [
    {
     "name": "stdout",
     "output_type": "stream",
     "text": [
      "Employee ID is:  16147935 \n",
      "Employee name is  Aniket\n"
     ]
    }
   ],
   "source": [
    "emp_det.emp_detail()"
   ]
  },
  {
   "cell_type": "markdown",
   "id": "b233f5d2",
   "metadata": {},
   "source": [
    "# ENCAPSULATION"
   ]
  },
  {
   "cell_type": "code",
   "execution_count": 5,
   "id": "26fdabcc",
   "metadata": {},
   "outputs": [],
   "source": [
    "class Tyres():\n",
    "    def __init__(self,branch,belted_bias,opt_pressure):\n",
    "        self.branch = branch\n",
    "        self.belted_bias = belted_bias\n",
    "        self.opt_pressure = opt_pressure\n",
    "        \n",
    "    def __str__(self):\n",
    "        return(\"Tyres: \\n\\tBranch: \"+ self.branch +\"\\n\\tBelted Bias: \" + self.belted_bias + \"\\n\\tOptimum Pressure: \" + self.opt_pressure)\n",
    "        \n",
    "class Engine():\n",
    "    def __init__(self,fuel_type,noise_level):\n",
    "        self.fuel_type = fuel_type\n",
    "        self.noise_level = noise_level\n",
    "        \n",
    "    def __str__(self):\n",
    "        return(\"Engine: \\n\\tFuel Type: \" + self.fuel_type + \"\\n\\tNoise Level: \" + self.noise_level)\n",
    "        \n",
    "class Body():\n",
    "    def __init__(self,size,body_type):\n",
    "        self.size = size\n",
    "        self.body_type = body_type\n",
    "        \n",
    "    def __str__(self):\n",
    "        return(\"Body: \\n\\tSize: \" + self.size + \"\\n\\tBody Type: \" + self.body_type)\n",
    "        \n",
    "class Car():\n",
    "    def __init__(self,tyres,engine,body):\n",
    "        self.tyres = tyres\n",
    "        self.engine = engine\n",
    "        self.body = body\n",
    "        \n",
    "    def __str__(self):\n",
    "        return (str(self.tyres) +  str(self.engine) + str(self.body))"
   ]
  },
  {
   "cell_type": "code",
   "execution_count": 6,
   "id": "dffa3b1f",
   "metadata": {},
   "outputs": [
    {
     "ename": "TypeError",
     "evalue": "can only concatenate str (not \"bool\") to str",
     "output_type": "error",
     "traceback": [
      "\u001b[1;31m---------------------------------------------------------------------------\u001b[0m",
      "\u001b[1;31mTypeError\u001b[0m                                 Traceback (most recent call last)",
      "\u001b[1;32m<ipython-input-6-9c20f8df0ec3>\u001b[0m in \u001b[0;36m<module>\u001b[1;34m\u001b[0m\n\u001b[0;32m      6\u001b[0m \u001b[1;33m\u001b[0m\u001b[0m\n\u001b[0;32m      7\u001b[0m \u001b[1;33m\u001b[0m\u001b[0m\n\u001b[1;32m----> 8\u001b[1;33m \u001b[0mprint\u001b[0m\u001b[1;33m(\u001b[0m\u001b[0mc\u001b[0m\u001b[1;33m)\u001b[0m\u001b[1;33m\u001b[0m\u001b[1;33m\u001b[0m\u001b[0m\n\u001b[0m",
      "\u001b[1;32m<ipython-input-5-07cebebf1f97>\u001b[0m in \u001b[0;36m__str__\u001b[1;34m(self)\u001b[0m\n\u001b[0;32m     31\u001b[0m \u001b[1;33m\u001b[0m\u001b[0m\n\u001b[0;32m     32\u001b[0m     \u001b[1;32mdef\u001b[0m \u001b[0m__str__\u001b[0m\u001b[1;33m(\u001b[0m\u001b[0mself\u001b[0m\u001b[1;33m)\u001b[0m\u001b[1;33m:\u001b[0m\u001b[1;33m\u001b[0m\u001b[1;33m\u001b[0m\u001b[0m\n\u001b[1;32m---> 33\u001b[1;33m         \u001b[1;32mreturn\u001b[0m \u001b[1;33m(\u001b[0m\u001b[0mstr\u001b[0m\u001b[1;33m(\u001b[0m\u001b[0mself\u001b[0m\u001b[1;33m.\u001b[0m\u001b[0mtyres\u001b[0m\u001b[1;33m)\u001b[0m \u001b[1;33m+\u001b[0m  \u001b[0mstr\u001b[0m\u001b[1;33m(\u001b[0m\u001b[0mself\u001b[0m\u001b[1;33m.\u001b[0m\u001b[0mengine\u001b[0m\u001b[1;33m)\u001b[0m \u001b[1;33m+\u001b[0m \u001b[0mstr\u001b[0m\u001b[1;33m(\u001b[0m\u001b[0mself\u001b[0m\u001b[1;33m.\u001b[0m\u001b[0mbody\u001b[0m\u001b[1;33m)\u001b[0m\u001b[1;33m)\u001b[0m\u001b[1;33m\u001b[0m\u001b[1;33m\u001b[0m\u001b[0m\n\u001b[0m",
      "\u001b[1;32m<ipython-input-5-07cebebf1f97>\u001b[0m in \u001b[0;36m__str__\u001b[1;34m(self)\u001b[0m\n\u001b[0;32m      6\u001b[0m \u001b[1;33m\u001b[0m\u001b[0m\n\u001b[0;32m      7\u001b[0m     \u001b[1;32mdef\u001b[0m \u001b[0m__str__\u001b[0m\u001b[1;33m(\u001b[0m\u001b[0mself\u001b[0m\u001b[1;33m)\u001b[0m\u001b[1;33m:\u001b[0m\u001b[1;33m\u001b[0m\u001b[1;33m\u001b[0m\u001b[0m\n\u001b[1;32m----> 8\u001b[1;33m         \u001b[1;32mreturn\u001b[0m\u001b[1;33m(\u001b[0m\u001b[1;34m\"Tyres: \\n\\tBranch: \"\u001b[0m\u001b[1;33m+\u001b[0m \u001b[0mself\u001b[0m\u001b[1;33m.\u001b[0m\u001b[0mbranch\u001b[0m \u001b[1;33m+\u001b[0m\u001b[1;34m\"\\n\\tBelted Bias: \"\u001b[0m \u001b[1;33m+\u001b[0m \u001b[0mself\u001b[0m\u001b[1;33m.\u001b[0m\u001b[0mbelted_bias\u001b[0m \u001b[1;33m+\u001b[0m \u001b[1;34m\"\\n\\tOptimum Pressure: \"\u001b[0m \u001b[1;33m+\u001b[0m \u001b[0mself\u001b[0m\u001b[1;33m.\u001b[0m\u001b[0mopt_pressure\u001b[0m\u001b[1;33m)\u001b[0m\u001b[1;33m\u001b[0m\u001b[1;33m\u001b[0m\u001b[0m\n\u001b[0m\u001b[0;32m      9\u001b[0m \u001b[1;33m\u001b[0m\u001b[0m\n\u001b[0;32m     10\u001b[0m \u001b[1;32mclass\u001b[0m \u001b[0mEngine\u001b[0m\u001b[1;33m(\u001b[0m\u001b[1;33m)\u001b[0m\u001b[1;33m:\u001b[0m\u001b[1;33m\u001b[0m\u001b[1;33m\u001b[0m\u001b[0m\n",
      "\u001b[1;31mTypeError\u001b[0m: can only concatenate str (not \"bool\") to str"
     ]
    }
   ],
   "source": [
    "t = Tyres(\"MRF\",False,34)\n",
    "e = Engine(\"Petrol\",2.5)\n",
    "b = Body(\"SUV\",\"Plastic\")\n",
    "\n",
    "c = Car(t,e,b)\n",
    "\n",
    "\n",
    "print(c)"
   ]
  },
  {
   "cell_type": "code",
   "execution_count": null,
   "id": "20cee299",
   "metadata": {},
   "outputs": [],
   "source": []
  }
 ],
 "metadata": {
  "kernelspec": {
   "display_name": "Python 3",
   "language": "python",
   "name": "python3"
  },
  "language_info": {
   "codemirror_mode": {
    "name": "ipython",
    "version": 3
   },
   "file_extension": ".py",
   "mimetype": "text/x-python",
   "name": "python",
   "nbconvert_exporter": "python",
   "pygments_lexer": "ipython3",
   "version": "3.8.8"
  }
 },
 "nbformat": 4,
 "nbformat_minor": 5
}
