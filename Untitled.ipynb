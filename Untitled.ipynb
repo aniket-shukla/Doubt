{
 "cells": [
  {
   "cell_type": "code",
   "execution_count": 2,
   "id": "0ba6d2fb",
   "metadata": {},
   "outputs": [],
   "source": [
    "import math"
   ]
  },
  {
   "cell_type": "code",
   "execution_count": 4,
   "id": "83f073c8",
   "metadata": {},
   "outputs": [
    {
     "name": "stdout",
     "output_type": "stream",
     "text": [
      "<built-in function dir>\n"
     ]
    }
   ],
   "source": [
    "print (dir)"
   ]
  },
  {
   "cell_type": "code",
   "execution_count": 5,
   "id": "d08c733b",
   "metadata": {},
   "outputs": [
    {
     "name": "stdout",
     "output_type": "stream",
     "text": [
      "['__doc__', '__loader__', '__name__', '__package__', '__spec__', 'acos', 'acosh', 'asin', 'asinh', 'atan', 'atan2', 'atanh', 'ceil', 'comb', 'copysign', 'cos', 'cosh', 'degrees', 'dist', 'e', 'erf', 'erfc', 'exp', 'expm1', 'fabs', 'factorial', 'floor', 'fmod', 'frexp', 'fsum', 'gamma', 'gcd', 'hypot', 'inf', 'isclose', 'isfinite', 'isinf', 'isnan', 'isqrt', 'ldexp', 'lgamma', 'log', 'log10', 'log1p', 'log2', 'modf', 'nan', 'perm', 'pi', 'pow', 'prod', 'radians', 'remainder', 'sin', 'sinh', 'sqrt', 'tan', 'tanh', 'tau', 'trunc']\n"
     ]
    }
   ],
   "source": [
    "print(dir(math))"
   ]
  },
  {
   "cell_type": "code",
   "execution_count": 6,
   "id": "c0a79875",
   "metadata": {},
   "outputs": [
    {
     "data": {
      "text/plain": [
       "60"
      ]
     },
     "execution_count": 6,
     "metadata": {},
     "output_type": "execute_result"
    }
   ],
   "source": [
    "len(dir(math))"
   ]
  },
  {
   "cell_type": "code",
   "execution_count": 7,
   "id": "0c729e9e",
   "metadata": {},
   "outputs": [
    {
     "data": {
      "text/plain": [
       "10.0"
      ]
     },
     "execution_count": 7,
     "metadata": {},
     "output_type": "execute_result"
    }
   ],
   "source": [
    "math.sqrt(100)"
   ]
  },
  {
   "cell_type": "code",
   "execution_count": 8,
   "id": "6d05bda3",
   "metadata": {},
   "outputs": [
    {
     "data": {
      "text/plain": [
       "2.302585092994046"
      ]
     },
     "execution_count": 8,
     "metadata": {},
     "output_type": "execute_result"
    }
   ],
   "source": [
    "math.log(10)"
   ]
  },
  {
   "cell_type": "code",
   "execution_count": 9,
   "id": "2193e615",
   "metadata": {},
   "outputs": [
    {
     "data": {
      "text/plain": [
       "7.38905609893065"
      ]
     },
     "execution_count": 9,
     "metadata": {},
     "output_type": "execute_result"
    }
   ],
   "source": [
    "math.exp(2)"
   ]
  },
  {
   "cell_type": "code",
   "execution_count": 10,
   "id": "c97dee89",
   "metadata": {},
   "outputs": [
    {
     "data": {
      "text/plain": [
       "-0.428182669496151"
      ]
     },
     "execution_count": 10,
     "metadata": {},
     "output_type": "execute_result"
    }
   ],
   "source": [
    "math.sin(35)"
   ]
  },
  {
   "cell_type": "code",
   "execution_count": 11,
   "id": "5e44bae7",
   "metadata": {},
   "outputs": [
    {
     "ename": "NameError",
     "evalue": "name 'sqrt' is not defined",
     "output_type": "error",
     "traceback": [
      "\u001b[1;31m---------------------------------------------------------------------------\u001b[0m",
      "\u001b[1;31mNameError\u001b[0m                                 Traceback (most recent call last)",
      "\u001b[1;32m<ipython-input-11-fddda9c0a661>\u001b[0m in \u001b[0;36m<module>\u001b[1;34m\u001b[0m\n\u001b[1;32m----> 1\u001b[1;33m \u001b[0msqrt\u001b[0m\u001b[1;33m(\u001b[0m\u001b[1;36m35\u001b[0m\u001b[1;33m)\u001b[0m\u001b[1;33m\u001b[0m\u001b[1;33m\u001b[0m\u001b[0m\n\u001b[0m",
      "\u001b[1;31mNameError\u001b[0m: name 'sqrt' is not defined"
     ]
    }
   ],
   "source": [
    "sqrt(35)"
   ]
  },
  {
   "cell_type": "code",
   "execution_count": 12,
   "id": "91ba609a",
   "metadata": {},
   "outputs": [],
   "source": [
    "from math import sqrt"
   ]
  },
  {
   "cell_type": "code",
   "execution_count": 13,
   "id": "7eda3d62",
   "metadata": {},
   "outputs": [
    {
     "data": {
      "text/plain": [
       "5.916079783099616"
      ]
     },
     "execution_count": 13,
     "metadata": {},
     "output_type": "execute_result"
    }
   ],
   "source": [
    "sqrt(35)"
   ]
  },
  {
   "cell_type": "code",
   "execution_count": 14,
   "id": "03e52104",
   "metadata": {},
   "outputs": [],
   "source": [
    "from math import log10"
   ]
  },
  {
   "cell_type": "code",
   "execution_count": 15,
   "id": "8136fcb8",
   "metadata": {},
   "outputs": [
    {
     "data": {
      "text/plain": [
       "2.0"
      ]
     },
     "execution_count": 15,
     "metadata": {},
     "output_type": "execute_result"
    }
   ],
   "source": [
    "log10(100)"
   ]
  },
  {
   "cell_type": "code",
   "execution_count": 16,
   "id": "029863cc",
   "metadata": {},
   "outputs": [],
   "source": [
    "import numpy"
   ]
  },
  {
   "cell_type": "code",
   "execution_count": 17,
   "id": "f0b5c0e3",
   "metadata": {},
   "outputs": [
    {
     "name": "stdout",
     "output_type": "stream",
     "text": [
      "['ALLOW_THREADS', 'AxisError', 'BUFSIZE', 'Bytes0', 'CLIP', 'ComplexWarning', 'DataSource', 'Datetime64', 'ERR_CALL', 'ERR_DEFAULT', 'ERR_IGNORE', 'ERR_LOG', 'ERR_PRINT', 'ERR_RAISE', 'ERR_WARN', 'FLOATING_POINT_SUPPORT', 'FPE_DIVIDEBYZERO', 'FPE_INVALID', 'FPE_OVERFLOW', 'FPE_UNDERFLOW', 'False_', 'Inf', 'Infinity', 'MAXDIMS', 'MAY_SHARE_BOUNDS', 'MAY_SHARE_EXACT', 'MachAr', 'ModuleDeprecationWarning', 'NAN', 'NINF', 'NZERO', 'NaN', 'PINF', 'PZERO', 'RAISE', 'RankWarning', 'SHIFT_DIVIDEBYZERO', 'SHIFT_INVALID', 'SHIFT_OVERFLOW', 'SHIFT_UNDERFLOW', 'ScalarType', 'Str0', 'Tester', 'TooHardError', 'True_', 'UFUNC_BUFSIZE_DEFAULT', 'UFUNC_PYVALS_NAME', 'Uint64', 'VisibleDeprecationWarning', 'WRAP', '_NoValue', '_UFUNC_API', '__NUMPY_SETUP__', '__all__', '__builtins__', '__cached__', '__config__', '__deprecated_attrs__', '__dir__', '__doc__', '__expired_functions__', '__file__', '__getattr__', '__git_revision__', '__loader__', '__mkl_version__', '__name__', '__package__', '__path__', '__spec__', '__version__', '_add_newdoc_ufunc', '_distributor_init', '_financial_names', '_globals', '_mat', '_pytesttester', 'abs', 'absolute', 'add', 'add_docstring', 'add_newdoc', 'add_newdoc_ufunc', 'alen', 'all', 'allclose', 'alltrue', 'amax', 'amin', 'angle', 'any', 'append', 'apply_along_axis', 'apply_over_axes', 'arange', 'arccos', 'arccosh', 'arcsin', 'arcsinh', 'arctan', 'arctan2', 'arctanh', 'argmax', 'argmin', 'argpartition', 'argsort', 'argwhere', 'around', 'array', 'array2string', 'array_equal', 'array_equiv', 'array_repr', 'array_split', 'array_str', 'asanyarray', 'asarray', 'asarray_chkfinite', 'ascontiguousarray', 'asfarray', 'asfortranarray', 'asmatrix', 'asscalar', 'atleast_1d', 'atleast_2d', 'atleast_3d', 'average', 'bartlett', 'base_repr', 'binary_repr', 'bincount', 'bitwise_and', 'bitwise_not', 'bitwise_or', 'bitwise_xor', 'blackman', 'block', 'bmat', 'bool8', 'bool_', 'broadcast', 'broadcast_arrays', 'broadcast_shapes', 'broadcast_to', 'busday_count', 'busday_offset', 'busdaycalendar', 'byte', 'byte_bounds', 'bytes0', 'bytes_', 'c_', 'can_cast', 'cast', 'cbrt', 'cdouble', 'ceil', 'cfloat', 'char', 'character', 'chararray', 'choose', 'clip', 'clongdouble', 'clongfloat', 'column_stack', 'common_type', 'compare_chararrays', 'compat', 'complex128', 'complex64', 'complex_', 'complexfloating', 'compress', 'concatenate', 'conj', 'conjugate', 'convolve', 'copy', 'copysign', 'copyto', 'core', 'corrcoef', 'correlate', 'cos', 'cosh', 'count_nonzero', 'cov', 'cross', 'csingle', 'ctypeslib', 'cumprod', 'cumproduct', 'cumsum', 'datetime64', 'datetime_as_string', 'datetime_data', 'deg2rad', 'degrees', 'delete', 'deprecate', 'deprecate_with_doc', 'diag', 'diag_indices', 'diag_indices_from', 'diagflat', 'diagonal', 'diff', 'digitize', 'disp', 'divide', 'divmod', 'dot', 'double', 'dsplit', 'dstack', 'dtype', 'e', 'ediff1d', 'einsum', 'einsum_path', 'emath', 'empty', 'empty_like', 'equal', 'errstate', 'euler_gamma', 'exp', 'exp2', 'expand_dims', 'expm1', 'extract', 'eye', 'fabs', 'fastCopyAndTranspose', 'fft', 'fill_diagonal', 'find_common_type', 'finfo', 'fix', 'flatiter', 'flatnonzero', 'flexible', 'flip', 'fliplr', 'flipud', 'float16', 'float32', 'float64', 'float_', 'float_power', 'floating', 'floor', 'floor_divide', 'fmax', 'fmin', 'fmod', 'format_float_positional', 'format_float_scientific', 'format_parser', 'frexp', 'frombuffer', 'fromfile', 'fromfunction', 'fromiter', 'frompyfunc', 'fromregex', 'fromstring', 'full', 'full_like', 'gcd', 'generic', 'genfromtxt', 'geomspace', 'get_array_wrap', 'get_include', 'get_printoptions', 'getbufsize', 'geterr', 'geterrcall', 'geterrobj', 'gradient', 'greater', 'greater_equal', 'half', 'hamming', 'hanning', 'heaviside', 'histogram', 'histogram2d', 'histogram_bin_edges', 'histogramdd', 'hsplit', 'hstack', 'hypot', 'i0', 'identity', 'iinfo', 'imag', 'in1d', 'index_exp', 'indices', 'inexact', 'inf', 'info', 'infty', 'inner', 'insert', 'int0', 'int16', 'int32', 'int64', 'int8', 'int_', 'intc', 'integer', 'interp', 'intersect1d', 'intp', 'invert', 'is_busday', 'isclose', 'iscomplex', 'iscomplexobj', 'isfinite', 'isfortran', 'isin', 'isinf', 'isnan', 'isnat', 'isneginf', 'isposinf', 'isreal', 'isrealobj', 'isscalar', 'issctype', 'issubclass_', 'issubdtype', 'issubsctype', 'iterable', 'ix_', 'kaiser', 'kron', 'lcm', 'ldexp', 'left_shift', 'less', 'less_equal', 'lexsort', 'lib', 'linalg', 'linspace', 'little_endian', 'load', 'loads', 'loadtxt', 'log', 'log10', 'log1p', 'log2', 'logaddexp', 'logaddexp2', 'logical_and', 'logical_not', 'logical_or', 'logical_xor', 'logspace', 'longcomplex', 'longdouble', 'longfloat', 'longlong', 'lookfor', 'ma', 'mafromtxt', 'mask_indices', 'mat', 'math', 'matmul', 'matrix', 'matrixlib', 'max', 'maximum', 'maximum_sctype', 'may_share_memory', 'mean', 'median', 'memmap', 'meshgrid', 'mgrid', 'min', 'min_scalar_type', 'minimum', 'mintypecode', 'mkl', 'mod', 'modf', 'moveaxis', 'msort', 'multiply', 'nan', 'nan_to_num', 'nanargmax', 'nanargmin', 'nancumprod', 'nancumsum', 'nanmax', 'nanmean', 'nanmedian', 'nanmin', 'nanpercentile', 'nanprod', 'nanquantile', 'nanstd', 'nansum', 'nanvar', 'nbytes', 'ndarray', 'ndenumerate', 'ndfromtxt', 'ndim', 'ndindex', 'nditer', 'negative', 'nested_iters', 'newaxis', 'nextafter', 'nonzero', 'not_equal', 'numarray', 'number', 'obj2sctype', 'object0', 'object_', 'ogrid', 'oldnumeric', 'ones', 'ones_like', 'os', 'outer', 'packbits', 'pad', 'partition', 'percentile', 'pi', 'piecewise', 'place', 'poly', 'poly1d', 'polyadd', 'polyder', 'polydiv', 'polyfit', 'polyint', 'polymul', 'polynomial', 'polysub', 'polyval', 'positive', 'power', 'printoptions', 'prod', 'product', 'promote_types', 'ptp', 'put', 'put_along_axis', 'putmask', 'quantile', 'r_', 'rad2deg', 'radians', 'random', 'ravel', 'ravel_multi_index', 'real', 'real_if_close', 'rec', 'recarray', 'recfromcsv', 'recfromtxt', 'reciprocal', 'record', 'remainder', 'repeat', 'require', 'reshape', 'resize', 'result_type', 'right_shift', 'rint', 'roll', 'rollaxis', 'roots', 'rot90', 'round', 'round_', 'row_stack', 's_', 'safe_eval', 'save', 'savetxt', 'savez', 'savez_compressed', 'sctype2char', 'sctypeDict', 'sctypes', 'searchsorted', 'select', 'set_numeric_ops', 'set_printoptions', 'set_string_function', 'setbufsize', 'setdiff1d', 'seterr', 'seterrcall', 'seterrobj', 'setxor1d', 'shape', 'shares_memory', 'short', 'show_config', 'sign', 'signbit', 'signedinteger', 'sin', 'sinc', 'single', 'singlecomplex', 'sinh', 'size', 'sometrue', 'sort', 'sort_complex', 'source', 'spacing', 'split', 'sqrt', 'square', 'squeeze', 'stack', 'std', 'str0', 'str_', 'string_', 'subtract', 'sum', 'swapaxes', 'sys', 'take', 'take_along_axis', 'tan', 'tanh', 'tensordot', 'test', 'testing', 'tile', 'timedelta64', 'trace', 'tracemalloc_domain', 'transpose', 'trapz', 'tri', 'tril', 'tril_indices', 'tril_indices_from', 'trim_zeros', 'triu', 'triu_indices', 'triu_indices_from', 'true_divide', 'trunc', 'typeDict', 'typecodes', 'typename', 'ubyte', 'ufunc', 'uint', 'uint0', 'uint16', 'uint32', 'uint64', 'uint8', 'uintc', 'uintp', 'ulonglong', 'unicode_', 'union1d', 'unique', 'unpackbits', 'unravel_index', 'unsignedinteger', 'unwrap', 'use_hugepage', 'ushort', 'vander', 'var', 'vdot', 'vectorize', 'version', 'void', 'void0', 'vsplit', 'vstack', 'warnings', 'where', 'who', 'zeros', 'zeros_like']\n"
     ]
    }
   ],
   "source": [
    "print(dir(numpy))"
   ]
  },
  {
   "cell_type": "code",
   "execution_count": 18,
   "id": "8d279dc3",
   "metadata": {},
   "outputs": [
    {
     "data": {
      "text/plain": [
       "608"
      ]
     },
     "execution_count": 18,
     "metadata": {},
     "output_type": "execute_result"
    }
   ],
   "source": [
    "len(dir(numpy))"
   ]
  },
  {
   "cell_type": "code",
   "execution_count": 19,
   "id": "e2e38238",
   "metadata": {},
   "outputs": [],
   "source": [
    "from numpy import square"
   ]
  },
  {
   "cell_type": "code",
   "execution_count": 20,
   "id": "1a04310f",
   "metadata": {},
   "outputs": [
    {
     "data": {
      "text/plain": [
       "400"
      ]
     },
     "execution_count": 20,
     "metadata": {},
     "output_type": "execute_result"
    }
   ],
   "source": [
    "square(20)"
   ]
  },
  {
   "cell_type": "markdown",
   "id": "b65521b1",
   "metadata": {},
   "source": [
    "## INPUT FROM USER"
   ]
  },
  {
   "cell_type": "code",
   "execution_count": 23,
   "id": "23f32dc7",
   "metadata": {},
   "outputs": [
    {
     "name": "stdout",
     "output_type": "stream",
     "text": [
      "What's your name? Jack\n",
      "Good to meet you, Mr. Jack !\n",
      "What's your age? 56\n",
      "Okay! So you are  56 year old, Mr Jack !\n"
     ]
    }
   ],
   "source": [
    "name = input(\"What's your name? \")\n",
    "print(\"Good to meet you, Mr.\",name ,\"!\")\n",
    "\n",
    "year = int(input(\"What's your age? \"))\n",
    "print(\"Okay! So you are \",year, \"year old, Mr\",name,\"!\")\n"
   ]
  },
  {
   "cell_type": "code",
   "execution_count": 28,
   "id": "22ff678c",
   "metadata": {},
   "outputs": [
    {
     "name": "stdout",
     "output_type": "stream",
     "text": [
      "Enter your name - lk\n",
      "Your name is  lk\n"
     ]
    }
   ],
   "source": [
    "name = input(\"Enter your name - \")\n",
    "\n",
    "if name.isalpha():\n",
    "    print(\"Your name is \",name)\n",
    "else:\n",
    "    print(\"Enter the alphabets\")"
   ]
  },
  {
   "cell_type": "markdown",
   "id": "eae325c6",
   "metadata": {},
   "source": [
    "# ERROR AND EXCEPTION HANDLING"
   ]
  },
  {
   "cell_type": "code",
   "execution_count": 31,
   "id": "d5ad369d",
   "metadata": {},
   "outputs": [
    {
     "name": "stdout",
     "output_type": "stream",
     "text": [
      "Your Car Number :  \n",
      "Name  \n",
      "Mobile Number  \n",
      "\n",
      " The registration number field is required. \n",
      "\n",
      "The customer name field is required. \n",
      "\n",
      "The mobile number field is required.\n"
     ]
    }
   ],
   "source": [
    "try:\n",
    "    car_number = input(\"Your Car Number : \")\n",
    "    name = input(\"Name \")\n",
    "    mobile = input(\"Mobile Number \")\n",
    "    \n",
    "    if car_number == \" \":\n",
    "        raise Exception()\n",
    "    elif name == \" \":\n",
    "        raise Exception()\n",
    "    elif mobile == \" \":\n",
    "        raise Exception()\n",
    "    else:\n",
    "        pass\n",
    "    \n",
    "except:\n",
    "    if car_number == \" \":\n",
    "        print(\"\\n The registration number field is required. \\n\")\n",
    "    if name == \" \":\n",
    "        print(\"The customer name field is required. \\n\")\n",
    "    if mobile == \" \":\n",
    "        print(\"The mobile number field is required.\")\n",
    "        \n",
    "else:\n",
    "    print(\"Thanks for all the details.\") "
   ]
  },
  {
   "cell_type": "code",
   "execution_count": 32,
   "id": "ec517d97",
   "metadata": {},
   "outputs": [
    {
     "name": "stdout",
     "output_type": "stream",
     "text": [
      "Your Car Number :  \n",
      "Name  \n",
      "Mobile Number  \n",
      "\n",
      " The registration number field is required. \n",
      "\n",
      "The customer name field is required. \n",
      "\n",
      "The mobile number field is required.\n",
      "This will be executed in any way\n"
     ]
    }
   ],
   "source": [
    "try:\n",
    "    car_number = input(\"Your Car Number : \")\n",
    "    name = input(\"Name \")\n",
    "    mobile = input(\"Mobile Number \")\n",
    "    \n",
    "    if car_number == \" \":\n",
    "        raise Exception()\n",
    "    elif name == \" \":\n",
    "        raise Exception()\n",
    "    elif mobile == \" \":\n",
    "        raise Exception()\n",
    "    else:\n",
    "        pass\n",
    "    \n",
    "except:\n",
    "    if car_number == \" \":\n",
    "        print(\"\\n The registration number field is required. \\n\")\n",
    "    if name == \" \":\n",
    "        print(\"The customer name field is required. \\n\")\n",
    "    if mobile == \" \":\n",
    "        print(\"The mobile number field is required.\")\n",
    "        \n",
    "else:\n",
    "    print(\"Thanks for all the details.\") \n",
    "    \n",
    "finally:\n",
    "    print(\"This will be executed in any way\")"
   ]
  },
  {
   "cell_type": "code",
   "execution_count": 2,
   "id": "7524b416",
   "metadata": {},
   "outputs": [],
   "source": [
    "def mob_num():\n",
    "    try:\n",
    "        val = int(input(\"Please enter your mobile number : \"))\n",
    "        \n",
    "    except:\n",
    "        print(\"Looks like you did not enter the mobile number!\")\n",
    "        \n",
    "    print(val)"
   ]
  },
  {
   "cell_type": "code",
   "execution_count": 3,
   "id": "4c9408ad",
   "metadata": {},
   "outputs": [
    {
     "name": "stdout",
     "output_type": "stream",
     "text": [
      "Please enter your mobile number : hjhk\n",
      "Looks like you did not enter the mobile number!\n"
     ]
    },
    {
     "ename": "UnboundLocalError",
     "evalue": "local variable 'val' referenced before assignment",
     "output_type": "error",
     "traceback": [
      "\u001b[1;31m---------------------------------------------------------------------------\u001b[0m",
      "\u001b[1;31mUnboundLocalError\u001b[0m                         Traceback (most recent call last)",
      "\u001b[1;32m<ipython-input-3-8441f4fe8dd9>\u001b[0m in \u001b[0;36m<module>\u001b[1;34m\u001b[0m\n\u001b[1;32m----> 1\u001b[1;33m \u001b[0mmob_num\u001b[0m\u001b[1;33m(\u001b[0m\u001b[1;33m)\u001b[0m\u001b[1;33m\u001b[0m\u001b[1;33m\u001b[0m\u001b[0m\n\u001b[0m",
      "\u001b[1;32m<ipython-input-2-4b7423456163>\u001b[0m in \u001b[0;36mmob_num\u001b[1;34m()\u001b[0m\n\u001b[0;32m      6\u001b[0m         \u001b[0mprint\u001b[0m\u001b[1;33m(\u001b[0m\u001b[1;34m\"Looks like you did not enter the mobile number!\"\u001b[0m\u001b[1;33m)\u001b[0m\u001b[1;33m\u001b[0m\u001b[1;33m\u001b[0m\u001b[0m\n\u001b[0;32m      7\u001b[0m \u001b[1;33m\u001b[0m\u001b[0m\n\u001b[1;32m----> 8\u001b[1;33m     \u001b[0mprint\u001b[0m\u001b[1;33m(\u001b[0m\u001b[0mval\u001b[0m\u001b[1;33m)\u001b[0m\u001b[1;33m\u001b[0m\u001b[1;33m\u001b[0m\u001b[0m\n\u001b[0m",
      "\u001b[1;31mUnboundLocalError\u001b[0m: local variable 'val' referenced before assignment"
     ]
    }
   ],
   "source": [
    "mob_num()"
   ]
  },
  {
   "cell_type": "code",
   "execution_count": 5,
   "id": "489f7f97",
   "metadata": {},
   "outputs": [
    {
     "name": "stdout",
     "output_type": "stream",
     "text": [
      "Please enter your mobile number : 457812\n",
      "457812\n"
     ]
    }
   ],
   "source": [
    "mob_num()"
   ]
  },
  {
   "cell_type": "code",
   "execution_count": 1,
   "id": "c7c1df41",
   "metadata": {},
   "outputs": [],
   "source": [
    "def mob_num():\n",
    "    while True:\n",
    "        try:\n",
    "            val = int(input(\"Please enter your mobile number : \"))\n",
    "        except:\n",
    "            print(\"Looks like you did not enter the mobile number!\")\n",
    "            continue\n",
    "        else:\n",
    "            if len(str(val)) != 10:               #len function can't directly be used on numbers\n",
    "                print(\"Mobile number should be of 10 digits.\")\n",
    "                continue\n",
    "            \n",
    "            print(\"Thank you for the information!\")\n",
    "            break"
   ]
  },
  {
   "cell_type": "code",
   "execution_count": 2,
   "id": "bd2edb9a",
   "metadata": {},
   "outputs": [
    {
     "name": "stdout",
     "output_type": "stream",
     "text": [
      "Please enter your mobile number : jlj\n",
      "Looks like you did not enter the mobile number!\n",
      "Please enter your mobile number : jjk\n",
      "Looks like you did not enter the mobile number!\n",
      "Please enter your mobile number : 7879794\n",
      "Mobile number should be of 10 digits.\n",
      "Please enter your mobile number : 789798789798797978\n",
      "Mobile number should be of 10 digits.\n",
      "Please enter your mobile number : 7843901664\n",
      "Thank you for the information!\n"
     ]
    }
   ],
   "source": [
    "mob_num()"
   ]
  },
  {
   "cell_type": "code",
   "execution_count": 3,
   "id": "d92990d3",
   "metadata": {},
   "outputs": [
    {
     "data": {
      "text/plain": [
       "11"
      ]
     },
     "execution_count": 3,
     "metadata": {},
     "output_type": "execute_result"
    }
   ],
   "source": [
    "len(str(34234345435))"
   ]
  },
  {
   "cell_type": "code",
   "execution_count": 2,
   "id": "f0ba77e4",
   "metadata": {},
   "outputs": [],
   "source": [
    "def name():\n",
    "    while True:\n",
    "        try:\n",
    "            data = input(\"Enter your name: \")\n",
    "        except:\n",
    "            print(\"Looks like you entered number!\")\n",
    "            continue\n",
    "        else:\n",
    "            if data.isalpha():\n",
    "                print(\"Thanks for the name!\")\n",
    "                break"
   ]
  },
  {
   "cell_type": "code",
   "execution_count": 3,
   "id": "7b98fe04",
   "metadata": {},
   "outputs": [
    {
     "name": "stdout",
     "output_type": "stream",
     "text": [
      "Enter your name: 7789879\n",
      "Enter your name: 8874\n",
      "Enter your name: a4\n",
      "Enter your name: aniket\n",
      "Thanks for the name!\n"
     ]
    }
   ],
   "source": [
    "name()"
   ]
  },
  {
   "cell_type": "markdown",
   "id": "9d4acc14",
   "metadata": {},
   "source": [
    "# OOPS"
   ]
  },
  {
   "cell_type": "code",
   "execution_count": 4,
   "id": "1a98e4f4",
   "metadata": {},
   "outputs": [],
   "source": [
    "class Person:\n",
    "    pass"
   ]
  },
  {
   "cell_type": "code",
   "execution_count": 5,
   "id": "4f9ccea6",
   "metadata": {},
   "outputs": [],
   "source": [
    "class Person:\n",
    "    def __init__(self, name, surname, year_of_birth):\n",
    "        self.name = name\n",
    "        self.surname = surname\n",
    "        self.year_of_birth = year_of_birth"
   ]
  },
  {
   "cell_type": "code",
   "execution_count": 6,
   "id": "aa38ba39",
   "metadata": {},
   "outputs": [],
   "source": [
    "# for more date formats ==>> https://docs.python.org/3.7/library/datetime.html"
   ]
  },
  {
   "cell_type": "code",
   "execution_count": 7,
   "id": "4255890a",
   "metadata": {},
   "outputs": [],
   "source": [
    "from datetime import datetime"
   ]
  },
  {
   "cell_type": "code",
   "execution_count": 14,
   "id": "f409fe06",
   "metadata": {},
   "outputs": [],
   "source": [
    "class Employee:\n",
    "    def __init__(self, name, date_of_joining, salary, phone_number, gender, email, location, date_of_birth):\n",
    "        self.name = name\n",
    "        self.date_of_joining = datetime.strptime(date_of_joining, \"%b %d %Y\")\n",
    "        self.salary = salary\n",
    "        self.phone_number = phone_number\n",
    "        self.gender = gender\n",
    "        self.email = email\n",
    "        self.location = location\n",
    "        self.date_of_birth = datetime.strptime(date_of_birth, \"%b %d %Y\")\n",
    "        \n",
    "    def emp_personal_details(self):\n",
    "        print(\"Name = \",self.name, \"\\nDate of Birth = \",self.date_of_birth, \"\\nPhone Number = \",self.phone_number, \n",
    "              \"\\nGender = \",self.gender)\n",
    "    def salary_hike(self):\n",
    "        if self.salary < 8000:\n",
    "            print(\"Your new salary is \",self.salary + (self.salary*0.3))\n",
    "        elif self.salary > 8000:\n",
    "            print(\"Your new salary is \",self.salary + (self.salary*0.15))"
   ]
  },
  {
   "cell_type": "code",
   "execution_count": 15,
   "id": "46af429d",
   "metadata": {},
   "outputs": [],
   "source": [
    "# emp is the object in this scene. We only need to enter emp now onwards in the program.\n",
    "emp = Employee(\"Aniket\", \"Jul 10 2020\", 7000, 7843901664, \"M\", \"aniketshukla2018@gmail.com\", \"Kanpur\", \"Mar 28 1997\")"
   ]
  },
  {
   "cell_type": "code",
   "execution_count": 16,
   "id": "9e622535",
   "metadata": {},
   "outputs": [
    {
     "ename": "TypeError",
     "evalue": "'Employee' object is not callable",
     "output_type": "error",
     "traceback": [
      "\u001b[1;31m---------------------------------------------------------------------------\u001b[0m",
      "\u001b[1;31mTypeError\u001b[0m                                 Traceback (most recent call last)",
      "\u001b[1;32m<ipython-input-16-3aa971333046>\u001b[0m in \u001b[0;36m<module>\u001b[1;34m\u001b[0m\n\u001b[1;32m----> 1\u001b[1;33m \u001b[0memp\u001b[0m\u001b[1;33m(\u001b[0m\u001b[1;33m)\u001b[0m\u001b[1;33m\u001b[0m\u001b[1;33m\u001b[0m\u001b[0m\n\u001b[0m",
      "\u001b[1;31mTypeError\u001b[0m: 'Employee' object is not callable"
     ]
    }
   ],
   "source": [
    "emp()"
   ]
  },
  {
   "cell_type": "code",
   "execution_count": 17,
   "id": "754b1b22",
   "metadata": {},
   "outputs": [
    {
     "data": {
      "text/plain": [
       "<__main__.Employee at 0x1eb7bd171f0>"
      ]
     },
     "execution_count": 17,
     "metadata": {},
     "output_type": "execute_result"
    }
   ],
   "source": [
    "emp"
   ]
  },
  {
   "cell_type": "code",
   "execution_count": 18,
   "id": "2b1cb02d",
   "metadata": {},
   "outputs": [
    {
     "name": "stdout",
     "output_type": "stream",
     "text": [
      "Name =  Aniket \n",
      "Date of Birth =  1997-03-28 00:00:00 \n",
      "Phone Number =  7843901664 \n",
      "Gender =  M\n"
     ]
    }
   ],
   "source": [
    "emp.emp_personal_details()"
   ]
  },
  {
   "cell_type": "code",
   "execution_count": 19,
   "id": "da95ece5",
   "metadata": {},
   "outputs": [
    {
     "name": "stdout",
     "output_type": "stream",
     "text": [
      "Your new salary is  9100.0\n"
     ]
    }
   ],
   "source": [
    "emp.salary_hike()"
   ]
  },
  {
   "cell_type": "markdown",
   "id": "6404e2d3",
   "metadata": {},
   "source": [
    "## INHERITANCE"
   ]
  },
  {
   "cell_type": "code",
   "execution_count": 23,
   "id": "8bf258ac",
   "metadata": {},
   "outputs": [],
   "source": [
    "class Employee_ID(Employee):\n",
    "    \n",
    "    def __init__(self, emp_id, *args):\n",
    "        super(Employee_ID,self).__init__(*args)\n",
    "        self.emp_id = emp_id\n",
    "        \n",
    "    def emp_details(self):\n",
    "        print(\"Employee ID is \",self.emp_id, \"\\nName = \",self.name)\n",
    "    "
   ]
  },
  {
   "cell_type": "code",
   "execution_count": 24,
   "id": "938698c7",
   "metadata": {},
   "outputs": [],
   "source": [
    "emp_det = Employee_ID(2415, \"Aniket\", \"Jul 10 2020\", 7000, 7843901664, \"M\", \"aniketshukla2018@gmail.com\", \"Kanpur\", \"Mar 28 1997\")"
   ]
  },
  {
   "cell_type": "code",
   "execution_count": 25,
   "id": "d25d4eee",
   "metadata": {},
   "outputs": [
    {
     "name": "stdout",
     "output_type": "stream",
     "text": [
      "Employee ID is  2415 \n",
      "Name =  Aniket\n"
     ]
    }
   ],
   "source": [
    "emp_det.emp_details()\n"
   ]
  },
  {
   "cell_type": "markdown",
   "id": "c3371d87",
   "metadata": {},
   "source": [
    "## ENCAPSULATION"
   ]
  },
  {
   "cell_type": "code",
   "execution_count": 7,
   "id": "2b31ce28",
   "metadata": {},
   "outputs": [
    {
     "ename": "TypeError",
     "evalue": "__str__ returned non-string (type tuple)",
     "output_type": "error",
     "traceback": [
      "\u001b[1;31m---------------------------------------------------------------------------\u001b[0m",
      "\u001b[1;31mTypeError\u001b[0m                                 Traceback (most recent call last)",
      "\u001b[1;32m<ipython-input-7-35dfa85e3d68>\u001b[0m in \u001b[0;36m<module>\u001b[1;34m\u001b[0m\n\u001b[0;32m     39\u001b[0m \u001b[1;33m\u001b[0m\u001b[0m\n\u001b[0;32m     40\u001b[0m \u001b[0mc\u001b[0m \u001b[1;33m=\u001b[0m \u001b[0mCar\u001b[0m\u001b[1;33m(\u001b[0m\u001b[0mt\u001b[0m\u001b[1;33m,\u001b[0m \u001b[0me\u001b[0m\u001b[1;33m,\u001b[0m \u001b[0mb\u001b[0m\u001b[1;33m)\u001b[0m\u001b[1;33m\u001b[0m\u001b[1;33m\u001b[0m\u001b[0m\n\u001b[1;32m---> 41\u001b[1;33m \u001b[0mprint\u001b[0m\u001b[1;33m(\u001b[0m\u001b[0mc\u001b[0m\u001b[1;33m)\u001b[0m\u001b[1;33m\u001b[0m\u001b[1;33m\u001b[0m\u001b[0m\n\u001b[0m",
      "\u001b[1;31mTypeError\u001b[0m: __str__ returned non-string (type tuple)"
     ]
    }
   ],
   "source": [
    "class Tyres():\n",
    "    def __init__(self, branch, belted_bias, opt_pressure):\n",
    "        self.branch = branch\n",
    "        self.belted_bias = belted_bias\n",
    "        self.opt_pressure = opt_pressure\n",
    "        \n",
    "    def __str__(self):\n",
    "        return \"Tyres: \\n \\tBranch: \",self.branch, \"\\n \\tBelted-Bias: \",self.belted_bias, \"\\n \\tOptimum-Pressure: \",self.opt_pressure\n",
    "    \n",
    "class Engine():\n",
    "    def __init__(self, fuel_type, noise_level):\n",
    "        self.fuel_type = fuel_type\n",
    "        self.noise_level = noise_level\n",
    "        \n",
    "    def __str__(self):\n",
    "        return \"Engine: \\n \\tFuel-Type:\", self.fuel_type, \"\\n \\tNoise-Level: \", self.noise_level\n",
    "    \n",
    "class Body():\n",
    "    def __init__(self,size, body_type):\n",
    "        self.size = size\n",
    "        self.body_type = body_type\n",
    "        \n",
    "    def __str__(self):\n",
    "        return \"Body: \\n \\tSize: \", self.size, \"\\n \\Type: \", self.body_type\n",
    "\n",
    "class Car():\n",
    "    def __init__(self, tyres, engine, body):\n",
    "        self.tyres = tyres\n",
    "        self.engine = engine\n",
    "        self.body = body\n",
    "        \n",
    "    def __str__(self):\n",
    "        return self.tyres, \"\\n\", self.engine, \"\\n\", self.body\n",
    "\n",
    "    \n",
    "t = Tyres(\"MRF\",True,34)\n",
    "e = Engine(\"Electric\", 0.00)\n",
    "b = Body(\"SUV\", \"Plastic\")\n",
    "\n",
    "c = Car(t, e, b)\n",
    "print(c)"
   ]
  },
  {
   "cell_type": "code",
   "execution_count": null,
   "id": "803384e9",
   "metadata": {},
   "outputs": [],
   "source": []
  }
 ],
 "metadata": {
  "kernelspec": {
   "display_name": "Python 3",
   "language": "python",
   "name": "python3"
  },
  "language_info": {
   "codemirror_mode": {
    "name": "ipython",
    "version": 3
   },
   "file_extension": ".py",
   "mimetype": "text/x-python",
   "name": "python",
   "nbconvert_exporter": "python",
   "pygments_lexer": "ipython3",
   "version": "3.8.8"
  }
 },
 "nbformat": 4,
 "nbformat_minor": 5
}
